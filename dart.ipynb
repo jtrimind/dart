{
 "metadata": {
  "language_info": {
   "codemirror_mode": {
    "name": "ipython",
    "version": 3
   },
   "file_extension": ".py",
   "mimetype": "text/x-python",
   "name": "python",
   "nbconvert_exporter": "python",
   "pygments_lexer": "ipython3",
   "version": "3.7.6-final"
  },
  "orig_nbformat": 2,
  "kernelspec": {
   "name": "python3",
   "display_name": "Python 3",
   "language": "python"
  }
 },
 "nbformat": 4,
 "nbformat_minor": 2,
 "cells": [
  {
   "cell_type": "code",
   "execution_count": 80,
   "metadata": {},
   "outputs": [],
   "source": [
    "import pandas as pd\n",
    "import OpenDartReader\n",
    "import FinanceDataReader as fdr"
   ]
  },
  {
   "cell_type": "code",
   "execution_count": 16,
   "metadata": {},
   "outputs": [],
   "source": [
    "api_key = '133579488f1e7f9a44707b2a7d2be9999840935a'\n",
    "dart = OpenDartReader(api_key)"
   ]
  },
  {
   "cell_type": "code",
   "execution_count": 210,
   "metadata": {},
   "outputs": [],
   "source": [
    "day_buy = '2020-12-23'\n",
    "day_sell = '2021-01-23'"
   ]
  },
  {
   "cell_type": "code",
   "execution_count": 211,
   "metadata": {},
   "outputs": [
    {
     "output_type": "execute_result",
     "data": {
      "text/plain": [
       "  corp_code corp_name stock_code corp_cls                  report_nm  \\\n",
       "0  01214743   더네이쳐홀딩스     298540        K    [기재정정]주식등의대량보유상황보고서(일반)   \n",
       "1  01214743   더네이쳐홀딩스     298540        K  [기재정정]임원ㆍ주요주주특정증권등소유상황보고서   \n",
       "2  00190321       케이티     030200        Y        임원ㆍ주요주주특정증권등소유상황보고서   \n",
       "3  01214743   더네이쳐홀딩스     298540        K  [기재정정]임원ㆍ주요주주특정증권등소유상황보고서   \n",
       "4  01214743   더네이쳐홀딩스     298540        K    [기재정정]주식등의대량보유상황보고서(일반)   \n",
       "\n",
       "         rcept_no flr_nm  rcept_dt rm  \n",
       "0  20201223000699    박영준  20201223     \n",
       "1  20201223000695    박영준  20201223     \n",
       "2  20201223000693    김영진  20201223     \n",
       "3  20201223000691    박영준  20201223     \n",
       "4  20201223000688    박영준  20201223     "
      ],
      "text/html": "<div>\n<style scoped>\n    .dataframe tbody tr th:only-of-type {\n        vertical-align: middle;\n    }\n\n    .dataframe tbody tr th {\n        vertical-align: top;\n    }\n\n    .dataframe thead th {\n        text-align: right;\n    }\n</style>\n<table border=\"1\" class=\"dataframe\">\n  <thead>\n    <tr style=\"text-align: right;\">\n      <th></th>\n      <th>corp_code</th>\n      <th>corp_name</th>\n      <th>stock_code</th>\n      <th>corp_cls</th>\n      <th>report_nm</th>\n      <th>rcept_no</th>\n      <th>flr_nm</th>\n      <th>rcept_dt</th>\n      <th>rm</th>\n    </tr>\n  </thead>\n  <tbody>\n    <tr>\n      <th>0</th>\n      <td>01214743</td>\n      <td>더네이쳐홀딩스</td>\n      <td>298540</td>\n      <td>K</td>\n      <td>[기재정정]주식등의대량보유상황보고서(일반)</td>\n      <td>20201223000699</td>\n      <td>박영준</td>\n      <td>20201223</td>\n      <td></td>\n    </tr>\n    <tr>\n      <th>1</th>\n      <td>01214743</td>\n      <td>더네이쳐홀딩스</td>\n      <td>298540</td>\n      <td>K</td>\n      <td>[기재정정]임원ㆍ주요주주특정증권등소유상황보고서</td>\n      <td>20201223000695</td>\n      <td>박영준</td>\n      <td>20201223</td>\n      <td></td>\n    </tr>\n    <tr>\n      <th>2</th>\n      <td>00190321</td>\n      <td>케이티</td>\n      <td>030200</td>\n      <td>Y</td>\n      <td>임원ㆍ주요주주특정증권등소유상황보고서</td>\n      <td>20201223000693</td>\n      <td>김영진</td>\n      <td>20201223</td>\n      <td></td>\n    </tr>\n    <tr>\n      <th>3</th>\n      <td>01214743</td>\n      <td>더네이쳐홀딩스</td>\n      <td>298540</td>\n      <td>K</td>\n      <td>[기재정정]임원ㆍ주요주주특정증권등소유상황보고서</td>\n      <td>20201223000691</td>\n      <td>박영준</td>\n      <td>20201223</td>\n      <td></td>\n    </tr>\n    <tr>\n      <th>4</th>\n      <td>01214743</td>\n      <td>더네이쳐홀딩스</td>\n      <td>298540</td>\n      <td>K</td>\n      <td>[기재정정]주식등의대량보유상황보고서(일반)</td>\n      <td>20201223000688</td>\n      <td>박영준</td>\n      <td>20201223</td>\n      <td></td>\n    </tr>\n  </tbody>\n</table>\n</div>"
     },
     "metadata": {},
     "execution_count": 211
    }
   ],
   "source": [
    "list_d002 = dart.list(end=day_buy, kind='D', kind_detail='D002')\n",
    "list_d002.head()"
   ]
  },
  {
   "cell_type": "code",
   "execution_count": 212,
   "metadata": {},
   "outputs": [
    {
     "output_type": "execute_result",
     "data": {
      "text/plain": [
       "   corp_code corp_name stock_code corp_cls            report_nm  \\\n",
       "2   00190321       케이티     030200        Y  임원ㆍ주요주주특정증권등소유상황보고서   \n",
       "13  00596260     투비소프트     079970        K  임원ㆍ주요주주특정증권등소유상황보고서   \n",
       "17  00867849      오파스넷     173130        K  임원ㆍ주요주주특정증권등소유상황보고서   \n",
       "18  00340917     동원F&B     049770        Y  임원ㆍ주요주주특정증권등소유상황보고서   \n",
       "21  00130879    서울식품공업     004410        Y  임원ㆍ주요주주특정증권등소유상황보고서   \n",
       "\n",
       "          rcept_no    flr_nm  rcept_dt rm  \n",
       "2   20201223000693       김영진  20201223     \n",
       "13  20201223000662       조강희  20201223     \n",
       "17  20201223000644       서동원  20201223     \n",
       "18  20201223000643  동원엔터프라이즈  20201223     \n",
       "21  20201223000633       서성훈  20201223     "
      ],
      "text/html": "<div>\n<style scoped>\n    .dataframe tbody tr th:only-of-type {\n        vertical-align: middle;\n    }\n\n    .dataframe tbody tr th {\n        vertical-align: top;\n    }\n\n    .dataframe thead th {\n        text-align: right;\n    }\n</style>\n<table border=\"1\" class=\"dataframe\">\n  <thead>\n    <tr style=\"text-align: right;\">\n      <th></th>\n      <th>corp_code</th>\n      <th>corp_name</th>\n      <th>stock_code</th>\n      <th>corp_cls</th>\n      <th>report_nm</th>\n      <th>rcept_no</th>\n      <th>flr_nm</th>\n      <th>rcept_dt</th>\n      <th>rm</th>\n    </tr>\n  </thead>\n  <tbody>\n    <tr>\n      <th>2</th>\n      <td>00190321</td>\n      <td>케이티</td>\n      <td>030200</td>\n      <td>Y</td>\n      <td>임원ㆍ주요주주특정증권등소유상황보고서</td>\n      <td>20201223000693</td>\n      <td>김영진</td>\n      <td>20201223</td>\n      <td></td>\n    </tr>\n    <tr>\n      <th>13</th>\n      <td>00596260</td>\n      <td>투비소프트</td>\n      <td>079970</td>\n      <td>K</td>\n      <td>임원ㆍ주요주주특정증권등소유상황보고서</td>\n      <td>20201223000662</td>\n      <td>조강희</td>\n      <td>20201223</td>\n      <td></td>\n    </tr>\n    <tr>\n      <th>17</th>\n      <td>00867849</td>\n      <td>오파스넷</td>\n      <td>173130</td>\n      <td>K</td>\n      <td>임원ㆍ주요주주특정증권등소유상황보고서</td>\n      <td>20201223000644</td>\n      <td>서동원</td>\n      <td>20201223</td>\n      <td></td>\n    </tr>\n    <tr>\n      <th>18</th>\n      <td>00340917</td>\n      <td>동원F&amp;B</td>\n      <td>049770</td>\n      <td>Y</td>\n      <td>임원ㆍ주요주주특정증권등소유상황보고서</td>\n      <td>20201223000643</td>\n      <td>동원엔터프라이즈</td>\n      <td>20201223</td>\n      <td></td>\n    </tr>\n    <tr>\n      <th>21</th>\n      <td>00130879</td>\n      <td>서울식품공업</td>\n      <td>004410</td>\n      <td>Y</td>\n      <td>임원ㆍ주요주주특정증권등소유상황보고서</td>\n      <td>20201223000633</td>\n      <td>서성훈</td>\n      <td>20201223</td>\n      <td></td>\n    </tr>\n  </tbody>\n</table>\n</div>"
     },
     "metadata": {},
     "execution_count": 212
    }
   ],
   "source": [
    "list_report_nm = list_d002[(list_d002['report_nm'] == '임원ㆍ주요주주특정증권등소유상황보고서') & ((list_d002['corp_cls'] == 'Y') | (list_d002['corp_cls'] == 'K' ))]\n",
    "list_report_nm.head()"
   ]
  },
  {
   "cell_type": "code",
   "execution_count": 213,
   "metadata": {},
   "outputs": [],
   "source": [
    "list_result = pd.DataFrame()\n",
    "for idx, row in list_report_nm.iterrows():\n",
    "    list_shareholders = dart.major_shareholders_exec(row['corp_code'])\n",
    "    tmp = list_shareholders[(list_shareholders['rcept_no'] == row['rcept_no']) & (list_shareholders['isu_exctv_rgist_at'] != '-')]\n",
    "    tmp['stock_code'] = row['stock_code']\n",
    "    list_result = list_result.append(tmp, ignore_index=True)\n"
   ]
  },
  {
   "cell_type": "code",
   "execution_count": 214,
   "metadata": {},
   "outputs": [
    {
     "output_type": "execute_result",
     "data": {
      "text/plain": [
       "          rcept_no    rcept_dt corp_code corp_name repror isu_exctv_rgist_at  \\\n",
       "25  20201223000485  2020-12-23  01364297    코퍼스코리아    오영섭               등기임원   \n",
       "27  20201223000476  2020-12-23  01364297    코퍼스코리아    오영환              비등기임원   \n",
       "14  20201223000539  2020-12-23  00918222   엘앤케이바이오    강국진               등기임원   \n",
       "28  20201223000471  2020-12-23  00297095     나라엠앤디    이진우              비등기임원   \n",
       "26  20201223000478  2020-12-23  00297095     나라엠앤디    정승우              비등기임원   \n",
       "6   20201223000601  2020-12-23  00111722    미래에셋대우    이구범              비등기임원   \n",
       "38  20201223000226  2020-12-23  00300557     위니아딤채    박영우              비등기임원   \n",
       "43  20201223000114  2020-12-23  00390365       토비스    김영홍              비등기임원   \n",
       "33  20201223000393  2020-12-23  00261373      마크로젠    차승헌              비등기임원   \n",
       "42  20201223000133  2020-12-23  00390365       토비스    최강민              비등기임원   \n",
       "31  20201223000397  2020-12-23  00261373      마크로젠    정경호              비등기임원   \n",
       "32  20201223000395  2020-12-23  00261373      마크로젠    이수강               등기임원   \n",
       "35  20201223000386  2020-12-23  00261373      마크로젠    김창훈              비등기임원   \n",
       "5   20201223000602  2020-12-23  00111722    미래에셋대우    김성락              비등기임원   \n",
       "37  20201223000246  2020-12-23  00372882      KTcs    박경원              비등기임원   \n",
       "40  20201223000176  2020-12-23  00190321       케이티    구현모               등기임원   \n",
       "36  20201223000384  2020-12-23  00261373      마크로젠    김용진              비등기임원   \n",
       "34  20201223000388  2020-12-23  00261373      마크로젠    이응룡              비등기임원   \n",
       "0   20201223000693  2020-12-23  00190321       케이티    김영진              비등기임원   \n",
       "12  20201223000544  2020-12-23  01199550  현대에너지솔루션    황명익              비등기임원   \n",
       "11  20201223000551  2020-12-23  00397252      조이시티    전현규              비등기임원   \n",
       "13  20201223000543  2020-12-23  00397252      조이시티    박준승              비등기임원   \n",
       "19  20201223000506  2020-12-23  00397252      조이시티    강동훈              비등기임원   \n",
       "20  20201223000502  2020-12-23  00611912     아모그린텍    이재영              비등기임원   \n",
       "39  20201223000225  2020-12-23  00126380      삼성전자    장의영              비등기임원   \n",
       "23  20201223000491  2020-12-23  00266961     NAVER    정민용              비등기임원   \n",
       "4   20201223000605  2020-12-23  00159616     두산중공업    윤성훈              비등기임원   \n",
       "7   20201223000595  2020-12-23  00111722    미래에셋대우    전경남              비등기임원   \n",
       "21  20201223000496  2020-12-23  00611912     아모그린텍    이병선              비등기임원   \n",
       "24  20201223000487  2020-12-23  00611912     아모그린텍     김찬              비등기임원   \n",
       "29  20201223000470  2020-12-23  01267170     SK케미칼     김철               등기임원   \n",
       "22  20201223000495  2020-12-23  01061327      클래시스    정광택               등기임원   \n",
       "18  20201223000514  2020-12-23  00962223      지니언스    이동석               등기임원   \n",
       "15  20201223000537  2020-12-23  00397252      조이시티    김준현              비등기임원   \n",
       "8   20201223000572  2020-12-23  00807555      메가엠디    윤용국              비등기임원   \n",
       "30  20201223000439  2020-12-23  00297961       케이맥    김종훈              비등기임원   \n",
       "1   20201223000662  2020-12-23  00596260     투비소프트    조강희               등기임원   \n",
       "10  20201223000563  2020-12-23  00807555      메가엠디    임수아               등기임원   \n",
       "41  20201223000134  2020-12-23  00159971   KC그린홀딩스    이태영               등기임원   \n",
       "16  20201223000536  2020-12-23  00574611       SDN    한준규               등기임원   \n",
       "17  20201223000527  2020-12-23  00962223      지니언스    김준형              비등기임원   \n",
       "9   20201223000571  2020-12-23  01261893      케이씨텍    고상걸               등기임원   \n",
       "3   20201223000633  2020-12-23  00130879    서울식품공업    서성훈               등기임원   \n",
       "2   20201223000644  2020-12-23  00867849      오파스넷    서동원              비등기임원   \n",
       "\n",
       "   isu_exctv_ofcps isu_main_shrholdr sp_stock_lmp_cnt sp_stock_lmp_irds_cnt  \\\n",
       "25            대표이사           10%이상주주       19,693,206            19,693,206   \n",
       "27             부사장                 -        1,263,600             1,263,600   \n",
       "14            대표이사           10%이상주주        2,103,985               179,061   \n",
       "28             상무보                 -           37,245                37,245   \n",
       "26             상무보                 -           14,300                14,300   \n",
       "6              부사장                 -          290,000               290,000   \n",
       "38              회장           사실상지배주주        1,062,456                15,000   \n",
       "43              사장                 -           22,713                 2,013   \n",
       "33              이사                 -              710                   710   \n",
       "42              상무                 -            1,600                 1,600   \n",
       "31            상무이사                 -            1,500                 1,500   \n",
       "32            대표이사                 -            1,000                 1,000   \n",
       "35            전무이사                 -              500                   500   \n",
       "5              부사장                 -           35,000                 5,000   \n",
       "37             부사장                 -              440                   440   \n",
       "40              사장                 -           23,563                 4,000   \n",
       "36              이사                 -               30                    30   \n",
       "34            상무이사                 -              290                   290   \n",
       "0               전무                 -            6,021                 2,000   \n",
       "12              상무                 -            1,000                 1,000   \n",
       "11              이사                 -                0                     0   \n",
       "13              이사                 -                0                     0   \n",
       "19              이사                 -                0                     0   \n",
       "20              상무                 -            2,500                  -500   \n",
       "39              전무                 -           13,000                -3,000   \n",
       "23            책임리더                 -            3,000                -2,000   \n",
       "4               상무                 -                0               -10,000   \n",
       "7               전무                 -           73,154               -70,000   \n",
       "21             상무보                 -            1,500                -3,500   \n",
       "24             상무보                 -            1,780                -3,220   \n",
       "29            대표이사                 -            2,000                -3,000   \n",
       "22              이사                 -           64,446               -20,500   \n",
       "18             부사장                 -            3,000                -2,716   \n",
       "15              이사                 -                0                -6,852   \n",
       "8             상무이사                 -           10,000               -20,000   \n",
       "30              상무                 -           40,000               -38,750   \n",
       "1             대표이사                 -                0               -40,444   \n",
       "10            대표이사                 -          150,582               -50,000   \n",
       "41         대표이사 회장           사실상지배주주        7,168,089               -70,000   \n",
       "16            사내이사                 -          191,060              -152,700   \n",
       "17            상무이사                 -           34,000               -30,000   \n",
       "9             사내이사                 -        1,244,522               -72,568   \n",
       "3             대표이사                 -       36,960,350              -200,000   \n",
       "2               상무                 -           25,000               -28,010   \n",
       "\n",
       "   sp_stock_lmp_rate  sp_stock_lmp_irds_rate stock_code  \n",
       "25             57.41                   57.41     322780  \n",
       "27              3.68                    3.68     322780  \n",
       "14             15.86                    1.35     156100  \n",
       "28              0.26                    0.26     051490  \n",
       "26              0.10                    0.10     051490  \n",
       "6               0.04                    0.04     006800  \n",
       "38              2.95                    0.04     071460  \n",
       "43              0.14                    0.02     051360  \n",
       "33              0.01                    0.01     038290  \n",
       "42              0.01                    0.01     051360  \n",
       "31              0.01                    0.01     038290  \n",
       "32              0.01                    0.01     038290  \n",
       "35              0.00                    0.00     038290  \n",
       "5               0.00                    0.00     006800  \n",
       "37              0.00                    0.00     058850  \n",
       "40              0.01                    0.00     030200  \n",
       "36              0.00                    0.00     038290  \n",
       "34              0.00                    0.00     038290  \n",
       "0               0.00                    0.00     030200  \n",
       "12              0.00                    0.00     322000  \n",
       "11                 0                    0.00     067000  \n",
       "13                 0                    0.00     067000  \n",
       "19                 0                    0.00     067000  \n",
       "20              0.01                   -0.00     125210  \n",
       "39              0.00                    0.00     005930  \n",
       "23              0.00                    0.00     035420  \n",
       "4               0.00                    0.00     034020  \n",
       "7               0.01                   -0.01     006800  \n",
       "21              0.01                   -0.02     125210  \n",
       "24              0.01                   -0.02     125210  \n",
       "29              0.02                   -0.02     285130  \n",
       "22              0.10                   -0.03     214150  \n",
       "18              0.03                   -0.03     263860  \n",
       "15                 0                   -0.06     067000  \n",
       "8               0.04                   -0.09     133750  \n",
       "30              0.11                   -0.11     043290  \n",
       "1                  0                   -0.13     079970  \n",
       "10              0.64                   -0.22     133750  \n",
       "41             31.95                   -0.31     009440  \n",
       "16              0.40                   -0.31     099220  \n",
       "17              0.36                   -0.32     263860  \n",
       "9               5.97                   -0.67     281820  \n",
       "3              10.27                   -0.67     004410  \n",
       "2               0.62                   -0.70     173130  "
      ],
      "text/html": "<div>\n<style scoped>\n    .dataframe tbody tr th:only-of-type {\n        vertical-align: middle;\n    }\n\n    .dataframe tbody tr th {\n        vertical-align: top;\n    }\n\n    .dataframe thead th {\n        text-align: right;\n    }\n</style>\n<table border=\"1\" class=\"dataframe\">\n  <thead>\n    <tr style=\"text-align: right;\">\n      <th></th>\n      <th>rcept_no</th>\n      <th>rcept_dt</th>\n      <th>corp_code</th>\n      <th>corp_name</th>\n      <th>repror</th>\n      <th>isu_exctv_rgist_at</th>\n      <th>isu_exctv_ofcps</th>\n      <th>isu_main_shrholdr</th>\n      <th>sp_stock_lmp_cnt</th>\n      <th>sp_stock_lmp_irds_cnt</th>\n      <th>sp_stock_lmp_rate</th>\n      <th>sp_stock_lmp_irds_rate</th>\n      <th>stock_code</th>\n    </tr>\n  </thead>\n  <tbody>\n    <tr>\n      <th>25</th>\n      <td>20201223000485</td>\n      <td>2020-12-23</td>\n      <td>01364297</td>\n      <td>코퍼스코리아</td>\n      <td>오영섭</td>\n      <td>등기임원</td>\n      <td>대표이사</td>\n      <td>10%이상주주</td>\n      <td>19,693,206</td>\n      <td>19,693,206</td>\n      <td>57.41</td>\n      <td>57.41</td>\n      <td>322780</td>\n    </tr>\n    <tr>\n      <th>27</th>\n      <td>20201223000476</td>\n      <td>2020-12-23</td>\n      <td>01364297</td>\n      <td>코퍼스코리아</td>\n      <td>오영환</td>\n      <td>비등기임원</td>\n      <td>부사장</td>\n      <td>-</td>\n      <td>1,263,600</td>\n      <td>1,263,600</td>\n      <td>3.68</td>\n      <td>3.68</td>\n      <td>322780</td>\n    </tr>\n    <tr>\n      <th>14</th>\n      <td>20201223000539</td>\n      <td>2020-12-23</td>\n      <td>00918222</td>\n      <td>엘앤케이바이오</td>\n      <td>강국진</td>\n      <td>등기임원</td>\n      <td>대표이사</td>\n      <td>10%이상주주</td>\n      <td>2,103,985</td>\n      <td>179,061</td>\n      <td>15.86</td>\n      <td>1.35</td>\n      <td>156100</td>\n    </tr>\n    <tr>\n      <th>28</th>\n      <td>20201223000471</td>\n      <td>2020-12-23</td>\n      <td>00297095</td>\n      <td>나라엠앤디</td>\n      <td>이진우</td>\n      <td>비등기임원</td>\n      <td>상무보</td>\n      <td>-</td>\n      <td>37,245</td>\n      <td>37,245</td>\n      <td>0.26</td>\n      <td>0.26</td>\n      <td>051490</td>\n    </tr>\n    <tr>\n      <th>26</th>\n      <td>20201223000478</td>\n      <td>2020-12-23</td>\n      <td>00297095</td>\n      <td>나라엠앤디</td>\n      <td>정승우</td>\n      <td>비등기임원</td>\n      <td>상무보</td>\n      <td>-</td>\n      <td>14,300</td>\n      <td>14,300</td>\n      <td>0.10</td>\n      <td>0.10</td>\n      <td>051490</td>\n    </tr>\n    <tr>\n      <th>6</th>\n      <td>20201223000601</td>\n      <td>2020-12-23</td>\n      <td>00111722</td>\n      <td>미래에셋대우</td>\n      <td>이구범</td>\n      <td>비등기임원</td>\n      <td>부사장</td>\n      <td>-</td>\n      <td>290,000</td>\n      <td>290,000</td>\n      <td>0.04</td>\n      <td>0.04</td>\n      <td>006800</td>\n    </tr>\n    <tr>\n      <th>38</th>\n      <td>20201223000226</td>\n      <td>2020-12-23</td>\n      <td>00300557</td>\n      <td>위니아딤채</td>\n      <td>박영우</td>\n      <td>비등기임원</td>\n      <td>회장</td>\n      <td>사실상지배주주</td>\n      <td>1,062,456</td>\n      <td>15,000</td>\n      <td>2.95</td>\n      <td>0.04</td>\n      <td>071460</td>\n    </tr>\n    <tr>\n      <th>43</th>\n      <td>20201223000114</td>\n      <td>2020-12-23</td>\n      <td>00390365</td>\n      <td>토비스</td>\n      <td>김영홍</td>\n      <td>비등기임원</td>\n      <td>사장</td>\n      <td>-</td>\n      <td>22,713</td>\n      <td>2,013</td>\n      <td>0.14</td>\n      <td>0.02</td>\n      <td>051360</td>\n    </tr>\n    <tr>\n      <th>33</th>\n      <td>20201223000393</td>\n      <td>2020-12-23</td>\n      <td>00261373</td>\n      <td>마크로젠</td>\n      <td>차승헌</td>\n      <td>비등기임원</td>\n      <td>이사</td>\n      <td>-</td>\n      <td>710</td>\n      <td>710</td>\n      <td>0.01</td>\n      <td>0.01</td>\n      <td>038290</td>\n    </tr>\n    <tr>\n      <th>42</th>\n      <td>20201223000133</td>\n      <td>2020-12-23</td>\n      <td>00390365</td>\n      <td>토비스</td>\n      <td>최강민</td>\n      <td>비등기임원</td>\n      <td>상무</td>\n      <td>-</td>\n      <td>1,600</td>\n      <td>1,600</td>\n      <td>0.01</td>\n      <td>0.01</td>\n      <td>051360</td>\n    </tr>\n    <tr>\n      <th>31</th>\n      <td>20201223000397</td>\n      <td>2020-12-23</td>\n      <td>00261373</td>\n      <td>마크로젠</td>\n      <td>정경호</td>\n      <td>비등기임원</td>\n      <td>상무이사</td>\n      <td>-</td>\n      <td>1,500</td>\n      <td>1,500</td>\n      <td>0.01</td>\n      <td>0.01</td>\n      <td>038290</td>\n    </tr>\n    <tr>\n      <th>32</th>\n      <td>20201223000395</td>\n      <td>2020-12-23</td>\n      <td>00261373</td>\n      <td>마크로젠</td>\n      <td>이수강</td>\n      <td>등기임원</td>\n      <td>대표이사</td>\n      <td>-</td>\n      <td>1,000</td>\n      <td>1,000</td>\n      <td>0.01</td>\n      <td>0.01</td>\n      <td>038290</td>\n    </tr>\n    <tr>\n      <th>35</th>\n      <td>20201223000386</td>\n      <td>2020-12-23</td>\n      <td>00261373</td>\n      <td>마크로젠</td>\n      <td>김창훈</td>\n      <td>비등기임원</td>\n      <td>전무이사</td>\n      <td>-</td>\n      <td>500</td>\n      <td>500</td>\n      <td>0.00</td>\n      <td>0.00</td>\n      <td>038290</td>\n    </tr>\n    <tr>\n      <th>5</th>\n      <td>20201223000602</td>\n      <td>2020-12-23</td>\n      <td>00111722</td>\n      <td>미래에셋대우</td>\n      <td>김성락</td>\n      <td>비등기임원</td>\n      <td>부사장</td>\n      <td>-</td>\n      <td>35,000</td>\n      <td>5,000</td>\n      <td>0.00</td>\n      <td>0.00</td>\n      <td>006800</td>\n    </tr>\n    <tr>\n      <th>37</th>\n      <td>20201223000246</td>\n      <td>2020-12-23</td>\n      <td>00372882</td>\n      <td>KTcs</td>\n      <td>박경원</td>\n      <td>비등기임원</td>\n      <td>부사장</td>\n      <td>-</td>\n      <td>440</td>\n      <td>440</td>\n      <td>0.00</td>\n      <td>0.00</td>\n      <td>058850</td>\n    </tr>\n    <tr>\n      <th>40</th>\n      <td>20201223000176</td>\n      <td>2020-12-23</td>\n      <td>00190321</td>\n      <td>케이티</td>\n      <td>구현모</td>\n      <td>등기임원</td>\n      <td>사장</td>\n      <td>-</td>\n      <td>23,563</td>\n      <td>4,000</td>\n      <td>0.01</td>\n      <td>0.00</td>\n      <td>030200</td>\n    </tr>\n    <tr>\n      <th>36</th>\n      <td>20201223000384</td>\n      <td>2020-12-23</td>\n      <td>00261373</td>\n      <td>마크로젠</td>\n      <td>김용진</td>\n      <td>비등기임원</td>\n      <td>이사</td>\n      <td>-</td>\n      <td>30</td>\n      <td>30</td>\n      <td>0.00</td>\n      <td>0.00</td>\n      <td>038290</td>\n    </tr>\n    <tr>\n      <th>34</th>\n      <td>20201223000388</td>\n      <td>2020-12-23</td>\n      <td>00261373</td>\n      <td>마크로젠</td>\n      <td>이응룡</td>\n      <td>비등기임원</td>\n      <td>상무이사</td>\n      <td>-</td>\n      <td>290</td>\n      <td>290</td>\n      <td>0.00</td>\n      <td>0.00</td>\n      <td>038290</td>\n    </tr>\n    <tr>\n      <th>0</th>\n      <td>20201223000693</td>\n      <td>2020-12-23</td>\n      <td>00190321</td>\n      <td>케이티</td>\n      <td>김영진</td>\n      <td>비등기임원</td>\n      <td>전무</td>\n      <td>-</td>\n      <td>6,021</td>\n      <td>2,000</td>\n      <td>0.00</td>\n      <td>0.00</td>\n      <td>030200</td>\n    </tr>\n    <tr>\n      <th>12</th>\n      <td>20201223000544</td>\n      <td>2020-12-23</td>\n      <td>01199550</td>\n      <td>현대에너지솔루션</td>\n      <td>황명익</td>\n      <td>비등기임원</td>\n      <td>상무</td>\n      <td>-</td>\n      <td>1,000</td>\n      <td>1,000</td>\n      <td>0.00</td>\n      <td>0.00</td>\n      <td>322000</td>\n    </tr>\n    <tr>\n      <th>11</th>\n      <td>20201223000551</td>\n      <td>2020-12-23</td>\n      <td>00397252</td>\n      <td>조이시티</td>\n      <td>전현규</td>\n      <td>비등기임원</td>\n      <td>이사</td>\n      <td>-</td>\n      <td>0</td>\n      <td>0</td>\n      <td>0</td>\n      <td>0.00</td>\n      <td>067000</td>\n    </tr>\n    <tr>\n      <th>13</th>\n      <td>20201223000543</td>\n      <td>2020-12-23</td>\n      <td>00397252</td>\n      <td>조이시티</td>\n      <td>박준승</td>\n      <td>비등기임원</td>\n      <td>이사</td>\n      <td>-</td>\n      <td>0</td>\n      <td>0</td>\n      <td>0</td>\n      <td>0.00</td>\n      <td>067000</td>\n    </tr>\n    <tr>\n      <th>19</th>\n      <td>20201223000506</td>\n      <td>2020-12-23</td>\n      <td>00397252</td>\n      <td>조이시티</td>\n      <td>강동훈</td>\n      <td>비등기임원</td>\n      <td>이사</td>\n      <td>-</td>\n      <td>0</td>\n      <td>0</td>\n      <td>0</td>\n      <td>0.00</td>\n      <td>067000</td>\n    </tr>\n    <tr>\n      <th>20</th>\n      <td>20201223000502</td>\n      <td>2020-12-23</td>\n      <td>00611912</td>\n      <td>아모그린텍</td>\n      <td>이재영</td>\n      <td>비등기임원</td>\n      <td>상무</td>\n      <td>-</td>\n      <td>2,500</td>\n      <td>-500</td>\n      <td>0.01</td>\n      <td>-0.00</td>\n      <td>125210</td>\n    </tr>\n    <tr>\n      <th>39</th>\n      <td>20201223000225</td>\n      <td>2020-12-23</td>\n      <td>00126380</td>\n      <td>삼성전자</td>\n      <td>장의영</td>\n      <td>비등기임원</td>\n      <td>전무</td>\n      <td>-</td>\n      <td>13,000</td>\n      <td>-3,000</td>\n      <td>0.00</td>\n      <td>0.00</td>\n      <td>005930</td>\n    </tr>\n    <tr>\n      <th>23</th>\n      <td>20201223000491</td>\n      <td>2020-12-23</td>\n      <td>00266961</td>\n      <td>NAVER</td>\n      <td>정민용</td>\n      <td>비등기임원</td>\n      <td>책임리더</td>\n      <td>-</td>\n      <td>3,000</td>\n      <td>-2,000</td>\n      <td>0.00</td>\n      <td>0.00</td>\n      <td>035420</td>\n    </tr>\n    <tr>\n      <th>4</th>\n      <td>20201223000605</td>\n      <td>2020-12-23</td>\n      <td>00159616</td>\n      <td>두산중공업</td>\n      <td>윤성훈</td>\n      <td>비등기임원</td>\n      <td>상무</td>\n      <td>-</td>\n      <td>0</td>\n      <td>-10,000</td>\n      <td>0.00</td>\n      <td>0.00</td>\n      <td>034020</td>\n    </tr>\n    <tr>\n      <th>7</th>\n      <td>20201223000595</td>\n      <td>2020-12-23</td>\n      <td>00111722</td>\n      <td>미래에셋대우</td>\n      <td>전경남</td>\n      <td>비등기임원</td>\n      <td>전무</td>\n      <td>-</td>\n      <td>73,154</td>\n      <td>-70,000</td>\n      <td>0.01</td>\n      <td>-0.01</td>\n      <td>006800</td>\n    </tr>\n    <tr>\n      <th>21</th>\n      <td>20201223000496</td>\n      <td>2020-12-23</td>\n      <td>00611912</td>\n      <td>아모그린텍</td>\n      <td>이병선</td>\n      <td>비등기임원</td>\n      <td>상무보</td>\n      <td>-</td>\n      <td>1,500</td>\n      <td>-3,500</td>\n      <td>0.01</td>\n      <td>-0.02</td>\n      <td>125210</td>\n    </tr>\n    <tr>\n      <th>24</th>\n      <td>20201223000487</td>\n      <td>2020-12-23</td>\n      <td>00611912</td>\n      <td>아모그린텍</td>\n      <td>김찬</td>\n      <td>비등기임원</td>\n      <td>상무보</td>\n      <td>-</td>\n      <td>1,780</td>\n      <td>-3,220</td>\n      <td>0.01</td>\n      <td>-0.02</td>\n      <td>125210</td>\n    </tr>\n    <tr>\n      <th>29</th>\n      <td>20201223000470</td>\n      <td>2020-12-23</td>\n      <td>01267170</td>\n      <td>SK케미칼</td>\n      <td>김철</td>\n      <td>등기임원</td>\n      <td>대표이사</td>\n      <td>-</td>\n      <td>2,000</td>\n      <td>-3,000</td>\n      <td>0.02</td>\n      <td>-0.02</td>\n      <td>285130</td>\n    </tr>\n    <tr>\n      <th>22</th>\n      <td>20201223000495</td>\n      <td>2020-12-23</td>\n      <td>01061327</td>\n      <td>클래시스</td>\n      <td>정광택</td>\n      <td>등기임원</td>\n      <td>이사</td>\n      <td>-</td>\n      <td>64,446</td>\n      <td>-20,500</td>\n      <td>0.10</td>\n      <td>-0.03</td>\n      <td>214150</td>\n    </tr>\n    <tr>\n      <th>18</th>\n      <td>20201223000514</td>\n      <td>2020-12-23</td>\n      <td>00962223</td>\n      <td>지니언스</td>\n      <td>이동석</td>\n      <td>등기임원</td>\n      <td>부사장</td>\n      <td>-</td>\n      <td>3,000</td>\n      <td>-2,716</td>\n      <td>0.03</td>\n      <td>-0.03</td>\n      <td>263860</td>\n    </tr>\n    <tr>\n      <th>15</th>\n      <td>20201223000537</td>\n      <td>2020-12-23</td>\n      <td>00397252</td>\n      <td>조이시티</td>\n      <td>김준현</td>\n      <td>비등기임원</td>\n      <td>이사</td>\n      <td>-</td>\n      <td>0</td>\n      <td>-6,852</td>\n      <td>0</td>\n      <td>-0.06</td>\n      <td>067000</td>\n    </tr>\n    <tr>\n      <th>8</th>\n      <td>20201223000572</td>\n      <td>2020-12-23</td>\n      <td>00807555</td>\n      <td>메가엠디</td>\n      <td>윤용국</td>\n      <td>비등기임원</td>\n      <td>상무이사</td>\n      <td>-</td>\n      <td>10,000</td>\n      <td>-20,000</td>\n      <td>0.04</td>\n      <td>-0.09</td>\n      <td>133750</td>\n    </tr>\n    <tr>\n      <th>30</th>\n      <td>20201223000439</td>\n      <td>2020-12-23</td>\n      <td>00297961</td>\n      <td>케이맥</td>\n      <td>김종훈</td>\n      <td>비등기임원</td>\n      <td>상무</td>\n      <td>-</td>\n      <td>40,000</td>\n      <td>-38,750</td>\n      <td>0.11</td>\n      <td>-0.11</td>\n      <td>043290</td>\n    </tr>\n    <tr>\n      <th>1</th>\n      <td>20201223000662</td>\n      <td>2020-12-23</td>\n      <td>00596260</td>\n      <td>투비소프트</td>\n      <td>조강희</td>\n      <td>등기임원</td>\n      <td>대표이사</td>\n      <td>-</td>\n      <td>0</td>\n      <td>-40,444</td>\n      <td>0</td>\n      <td>-0.13</td>\n      <td>079970</td>\n    </tr>\n    <tr>\n      <th>10</th>\n      <td>20201223000563</td>\n      <td>2020-12-23</td>\n      <td>00807555</td>\n      <td>메가엠디</td>\n      <td>임수아</td>\n      <td>등기임원</td>\n      <td>대표이사</td>\n      <td>-</td>\n      <td>150,582</td>\n      <td>-50,000</td>\n      <td>0.64</td>\n      <td>-0.22</td>\n      <td>133750</td>\n    </tr>\n    <tr>\n      <th>41</th>\n      <td>20201223000134</td>\n      <td>2020-12-23</td>\n      <td>00159971</td>\n      <td>KC그린홀딩스</td>\n      <td>이태영</td>\n      <td>등기임원</td>\n      <td>대표이사 회장</td>\n      <td>사실상지배주주</td>\n      <td>7,168,089</td>\n      <td>-70,000</td>\n      <td>31.95</td>\n      <td>-0.31</td>\n      <td>009440</td>\n    </tr>\n    <tr>\n      <th>16</th>\n      <td>20201223000536</td>\n      <td>2020-12-23</td>\n      <td>00574611</td>\n      <td>SDN</td>\n      <td>한준규</td>\n      <td>등기임원</td>\n      <td>사내이사</td>\n      <td>-</td>\n      <td>191,060</td>\n      <td>-152,700</td>\n      <td>0.40</td>\n      <td>-0.31</td>\n      <td>099220</td>\n    </tr>\n    <tr>\n      <th>17</th>\n      <td>20201223000527</td>\n      <td>2020-12-23</td>\n      <td>00962223</td>\n      <td>지니언스</td>\n      <td>김준형</td>\n      <td>비등기임원</td>\n      <td>상무이사</td>\n      <td>-</td>\n      <td>34,000</td>\n      <td>-30,000</td>\n      <td>0.36</td>\n      <td>-0.32</td>\n      <td>263860</td>\n    </tr>\n    <tr>\n      <th>9</th>\n      <td>20201223000571</td>\n      <td>2020-12-23</td>\n      <td>01261893</td>\n      <td>케이씨텍</td>\n      <td>고상걸</td>\n      <td>등기임원</td>\n      <td>사내이사</td>\n      <td>-</td>\n      <td>1,244,522</td>\n      <td>-72,568</td>\n      <td>5.97</td>\n      <td>-0.67</td>\n      <td>281820</td>\n    </tr>\n    <tr>\n      <th>3</th>\n      <td>20201223000633</td>\n      <td>2020-12-23</td>\n      <td>00130879</td>\n      <td>서울식품공업</td>\n      <td>서성훈</td>\n      <td>등기임원</td>\n      <td>대표이사</td>\n      <td>-</td>\n      <td>36,960,350</td>\n      <td>-200,000</td>\n      <td>10.27</td>\n      <td>-0.67</td>\n      <td>004410</td>\n    </tr>\n    <tr>\n      <th>2</th>\n      <td>20201223000644</td>\n      <td>2020-12-23</td>\n      <td>00867849</td>\n      <td>오파스넷</td>\n      <td>서동원</td>\n      <td>비등기임원</td>\n      <td>상무</td>\n      <td>-</td>\n      <td>25,000</td>\n      <td>-28,010</td>\n      <td>0.62</td>\n      <td>-0.70</td>\n      <td>173130</td>\n    </tr>\n  </tbody>\n</table>\n</div>"
     },
     "metadata": {},
     "execution_count": 214
    }
   ],
   "source": [
    "list_result['sp_stock_lmp_irds_rate'] = list_result['sp_stock_lmp_irds_rate'].astype(float)\n",
    "list_result = list_result.sort_values(by=['sp_stock_lmp_irds_rate', 'sp_stock_lmp_irds_cnt'], ascending=False)\n",
    "list_result"
   ]
  },
  {
   "cell_type": "code",
   "execution_count": 215,
   "metadata": {},
   "outputs": [],
   "source": [
    "buylist = list_result[~(list_result['sp_stock_lmp_irds_cnt'].str.contains('-'))]\n",
    "selllist = list_result[(list_result['sp_stock_lmp_irds_cnt'].str.contains('-'))]"
   ]
  },
  {
   "cell_type": "code",
   "execution_count": 216,
   "metadata": {},
   "outputs": [
    {
     "output_type": "stream",
     "name": "stdout",
     "text": [
      "322780 -17.09090909090909\n",
      "156100 67.85714285714286\n",
      "051490 4.724409448818897\n",
      "006800 2.4033437826541273\n",
      "071460 4.077669902912621\n",
      "051360 12.648221343873518\n",
      "038290 -2.5193798449612403\n",
      "058850 13.808463251670378\n",
      "030200 -5.7654075546719685\n",
      "322000 8.643617021276597\n",
      "067000 -20.81511119382153\n",
      "\n",
      "6.179278174907743\n"
     ]
    }
   ],
   "source": [
    "stock_codes = buylist.drop_duplicates(subset='stock_code')['stock_code'].tolist()\n",
    "total = 0\n",
    "for stock_code in stock_codes:\n",
    "    stock_data = fdr.DataReader(stock_code, day_buy, day_sell)\n",
    "    profit_rate = (stock_data.iloc[-1]['Close'] - stock_data.iloc[0]['Close']) / stock_data.iloc[0]['Close'] * 100\n",
    "    print(stock_code, profit_rate)\n",
    "    total += profit_rate\n",
    "total /= len(stock_codes)\n",
    "\n",
    "print()\n",
    "print(total)"
   ]
  },
  {
   "cell_type": "code",
   "execution_count": 217,
   "metadata": {},
   "outputs": [
    {
     "output_type": "stream",
     "name": "stdout",
     "text": [
      "125210 0.0\n",
      "005930 17.456021650879567\n",
      "035420 20.950704225352112\n",
      "034020 2.2900763358778624\n",
      "006800 2.4033437826541273\n",
      "285130 8.311345646437996\n",
      "214150 8.637873754152823\n",
      "263860 2.3255813953488373\n",
      "067000 -20.81511119382153\n",
      "133750 -7.0818070818070815\n",
      "043290 23.218390804597703\n",
      "079970 -14.188034188034187\n",
      "009440 7.6923076923076925\n",
      "099220 9.510086455331413\n",
      "281820 6.846846846846846\n",
      "004410 -17.269076305220885\n",
      "173130 -14.704708699122108\n",
      "\n",
      "2.093167124810658\n"
     ]
    }
   ],
   "source": [
    "stock_codes = selllist.drop_duplicates(subset='stock_code')['stock_code'].tolist()\n",
    "total = 0\n",
    "for stock_code in stock_codes:\n",
    "    stock_data = fdr.DataReader(stock_code, day_buy, day_sell)\n",
    "    profit_rate = (stock_data.iloc[-1]['Close'] - stock_data.iloc[0]['Close']) / stock_data.iloc[0]['Close'] * 100\n",
    "    print(stock_code, profit_rate)\n",
    "    total += profit_rate\n",
    "total /= len(stock_codes)\n",
    "\n",
    "print()\n",
    "print(total)"
   ]
  }
 ]
}