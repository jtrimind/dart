{
 "metadata": {
  "language_info": {
   "codemirror_mode": {
    "name": "ipython",
    "version": 3
   },
   "file_extension": ".py",
   "mimetype": "text/x-python",
   "name": "python",
   "nbconvert_exporter": "python",
   "pygments_lexer": "ipython3",
   "version": "3.7.6"
  },
  "orig_nbformat": 2,
  "kernelspec": {
   "name": "python376jvsc74a57bd0b3ba2566441a7c06988d0923437866b63cedc61552a5af99d1f4fb67d367b25f",
   "display_name": "Python 3.7.6 64-bit ('base': conda)"
  }
 },
 "nbformat": 4,
 "nbformat_minor": 2,
 "cells": [
  {
   "cell_type": "code",
   "execution_count": 68,
   "metadata": {},
   "outputs": [],
   "source": [
    "import pandas as pd\n",
    "import OpenDartReader\n",
    "import FinanceDataReader as fdr\n",
    "import datetime\n",
    "from bs4 import BeautifulSoup\n",
    "from pykrx import stock\n",
    "import math"
   ]
  },
  {
   "cell_type": "code",
   "execution_count": 69,
   "metadata": {},
   "outputs": [],
   "source": [
    "api_key = '133579488f1e7f9a44707b2a7d2be9999840935a'\n",
    "dart = OpenDartReader(api_key)"
   ]
  },
  {
   "cell_type": "code",
   "execution_count": 70,
   "metadata": {},
   "outputs": [],
   "source": [
    "day_buy = '2021-04-14'"
   ]
  },
  {
   "cell_type": "code",
   "execution_count": 71,
   "metadata": {},
   "outputs": [
    {
     "output_type": "execute_result",
     "data": {
      "text/plain": [
       "  corp_code corp_name stock_code corp_cls            report_nm  \\\n",
       "0  00145437   키위미디어그룹     012170        Y  임원ㆍ주요주주특정증권등소유상황보고서   \n",
       "1  00781202     뉴프라이드     900100        K        의결권대리행사권유참고서류   \n",
       "2  00778235  TS인베스트먼트     246690        K  임원ㆍ주요주주특정증권등소유상황보고서   \n",
       "3  00141273     웰바이오텍     010600        Y    주식등의대량보유상황보고서(일반)   \n",
       "4  00778235  TS인베스트먼트     246690        K  임원ㆍ주요주주특정증권등소유상황보고서   \n",
       "\n",
       "         rcept_no  flr_nm  rcept_dt rm  \n",
       "0  20210414002310     추준호  20210414     \n",
       "1  20210414002307   뉴프라이드  20210414     \n",
       "2  20210414002285     변기수  20210414     \n",
       "3  20210414002283  대양디엔아이  20210414     \n",
       "4  20210414002275     조경훈  20210414     "
      ],
      "text/html": "<div>\n<style scoped>\n    .dataframe tbody tr th:only-of-type {\n        vertical-align: middle;\n    }\n\n    .dataframe tbody tr th {\n        vertical-align: top;\n    }\n\n    .dataframe thead th {\n        text-align: right;\n    }\n</style>\n<table border=\"1\" class=\"dataframe\">\n  <thead>\n    <tr style=\"text-align: right;\">\n      <th></th>\n      <th>corp_code</th>\n      <th>corp_name</th>\n      <th>stock_code</th>\n      <th>corp_cls</th>\n      <th>report_nm</th>\n      <th>rcept_no</th>\n      <th>flr_nm</th>\n      <th>rcept_dt</th>\n      <th>rm</th>\n    </tr>\n  </thead>\n  <tbody>\n    <tr>\n      <th>0</th>\n      <td>00145437</td>\n      <td>키위미디어그룹</td>\n      <td>012170</td>\n      <td>Y</td>\n      <td>임원ㆍ주요주주특정증권등소유상황보고서</td>\n      <td>20210414002310</td>\n      <td>추준호</td>\n      <td>20210414</td>\n      <td></td>\n    </tr>\n    <tr>\n      <th>1</th>\n      <td>00781202</td>\n      <td>뉴프라이드</td>\n      <td>900100</td>\n      <td>K</td>\n      <td>의결권대리행사권유참고서류</td>\n      <td>20210414002307</td>\n      <td>뉴프라이드</td>\n      <td>20210414</td>\n      <td></td>\n    </tr>\n    <tr>\n      <th>2</th>\n      <td>00778235</td>\n      <td>TS인베스트먼트</td>\n      <td>246690</td>\n      <td>K</td>\n      <td>임원ㆍ주요주주특정증권등소유상황보고서</td>\n      <td>20210414002285</td>\n      <td>변기수</td>\n      <td>20210414</td>\n      <td></td>\n    </tr>\n    <tr>\n      <th>3</th>\n      <td>00141273</td>\n      <td>웰바이오텍</td>\n      <td>010600</td>\n      <td>Y</td>\n      <td>주식등의대량보유상황보고서(일반)</td>\n      <td>20210414002283</td>\n      <td>대양디엔아이</td>\n      <td>20210414</td>\n      <td></td>\n    </tr>\n    <tr>\n      <th>4</th>\n      <td>00778235</td>\n      <td>TS인베스트먼트</td>\n      <td>246690</td>\n      <td>K</td>\n      <td>임원ㆍ주요주주특정증권등소유상황보고서</td>\n      <td>20210414002275</td>\n      <td>조경훈</td>\n      <td>20210414</td>\n      <td></td>\n    </tr>\n  </tbody>\n</table>\n</div>"
     },
     "metadata": {},
     "execution_count": 71
    }
   ],
   "source": [
    "list_d002 = dart.list(end=day_buy, kind='D', kind_detail='D002')\n",
    "list_d002.head()"
   ]
  },
  {
   "cell_type": "code",
   "execution_count": 72,
   "metadata": {},
   "outputs": [
    {
     "output_type": "execute_result",
     "data": {
      "text/plain": [
       "  corp_code corp_name stock_code corp_cls            report_nm  \\\n",
       "0  00145437   키위미디어그룹     012170        Y  임원ㆍ주요주주특정증권등소유상황보고서   \n",
       "2  00778235  TS인베스트먼트     246690        K  임원ㆍ주요주주특정증권등소유상황보고서   \n",
       "4  00778235  TS인베스트먼트     246690        K  임원ㆍ주요주주특정증권등소유상황보고서   \n",
       "5  00778235  TS인베스트먼트     246690        K  임원ㆍ주요주주특정증권등소유상황보고서   \n",
       "7  00778235  TS인베스트먼트     246690        K  임원ㆍ주요주주특정증권등소유상황보고서   \n",
       "\n",
       "         rcept_no      flr_nm  rcept_dt rm  \n",
       "0  20210414002310         추준호  20210414     \n",
       "2  20210414002285         변기수  20210414     \n",
       "4  20210414002275         조경훈  20210414     \n",
       "5  20210414002260  티에스인베스트홀딩스  20210414     \n",
       "7  20210414002250          김웅  20210414     "
      ],
      "text/html": "<div>\n<style scoped>\n    .dataframe tbody tr th:only-of-type {\n        vertical-align: middle;\n    }\n\n    .dataframe tbody tr th {\n        vertical-align: top;\n    }\n\n    .dataframe thead th {\n        text-align: right;\n    }\n</style>\n<table border=\"1\" class=\"dataframe\">\n  <thead>\n    <tr style=\"text-align: right;\">\n      <th></th>\n      <th>corp_code</th>\n      <th>corp_name</th>\n      <th>stock_code</th>\n      <th>corp_cls</th>\n      <th>report_nm</th>\n      <th>rcept_no</th>\n      <th>flr_nm</th>\n      <th>rcept_dt</th>\n      <th>rm</th>\n    </tr>\n  </thead>\n  <tbody>\n    <tr>\n      <th>0</th>\n      <td>00145437</td>\n      <td>키위미디어그룹</td>\n      <td>012170</td>\n      <td>Y</td>\n      <td>임원ㆍ주요주주특정증권등소유상황보고서</td>\n      <td>20210414002310</td>\n      <td>추준호</td>\n      <td>20210414</td>\n      <td></td>\n    </tr>\n    <tr>\n      <th>2</th>\n      <td>00778235</td>\n      <td>TS인베스트먼트</td>\n      <td>246690</td>\n      <td>K</td>\n      <td>임원ㆍ주요주주특정증권등소유상황보고서</td>\n      <td>20210414002285</td>\n      <td>변기수</td>\n      <td>20210414</td>\n      <td></td>\n    </tr>\n    <tr>\n      <th>4</th>\n      <td>00778235</td>\n      <td>TS인베스트먼트</td>\n      <td>246690</td>\n      <td>K</td>\n      <td>임원ㆍ주요주주특정증권등소유상황보고서</td>\n      <td>20210414002275</td>\n      <td>조경훈</td>\n      <td>20210414</td>\n      <td></td>\n    </tr>\n    <tr>\n      <th>5</th>\n      <td>00778235</td>\n      <td>TS인베스트먼트</td>\n      <td>246690</td>\n      <td>K</td>\n      <td>임원ㆍ주요주주특정증권등소유상황보고서</td>\n      <td>20210414002260</td>\n      <td>티에스인베스트홀딩스</td>\n      <td>20210414</td>\n      <td></td>\n    </tr>\n    <tr>\n      <th>7</th>\n      <td>00778235</td>\n      <td>TS인베스트먼트</td>\n      <td>246690</td>\n      <td>K</td>\n      <td>임원ㆍ주요주주특정증권등소유상황보고서</td>\n      <td>20210414002250</td>\n      <td>김웅</td>\n      <td>20210414</td>\n      <td></td>\n    </tr>\n  </tbody>\n</table>\n</div>"
     },
     "metadata": {},
     "execution_count": 72
    }
   ],
   "source": [
    "list_report_nm = list_d002[(list_d002['report_nm'] == '임원ㆍ주요주주특정증권등소유상황보고서') & ((list_d002['corp_cls'] == 'Y') | (list_d002['corp_cls'] == 'K' ))]\n",
    "list_report_nm.head()"
   ]
  },
  {
   "cell_type": "code",
   "execution_count": 73,
   "metadata": {},
   "outputs": [
    {
     "output_type": "execute_result",
     "data": {
      "text/plain": [
       "  corp_name corp_code mdf_stk_cnt stock_code\n",
       "0     아이비김영  01414422         400     339950\n",
       "1  미래에셋맵스리츠  01437292      9,761      357250\n",
       "2      삼성공조  00126201       2,000     006660\n",
       "3      큐브엔터  00985686       2,500     182360\n",
       "4    브이티지엠피  00150165     13,431      018290\n",
       "5    바이오리더스  00587925      10,000     142760\n",
       "6     한화시스템  00339391       1,778     272210\n",
       "7    LG유플러스  00231363      25,000     032640"
      ],
      "text/html": "<div>\n<style scoped>\n    .dataframe tbody tr th:only-of-type {\n        vertical-align: middle;\n    }\n\n    .dataframe tbody tr th {\n        vertical-align: top;\n    }\n\n    .dataframe thead th {\n        text-align: right;\n    }\n</style>\n<table border=\"1\" class=\"dataframe\">\n  <thead>\n    <tr style=\"text-align: right;\">\n      <th></th>\n      <th>corp_name</th>\n      <th>corp_code</th>\n      <th>mdf_stk_cnt</th>\n      <th>stock_code</th>\n    </tr>\n  </thead>\n  <tbody>\n    <tr>\n      <th>0</th>\n      <td>아이비김영</td>\n      <td>01414422</td>\n      <td>400</td>\n      <td>339950</td>\n    </tr>\n    <tr>\n      <th>1</th>\n      <td>미래에셋맵스리츠</td>\n      <td>01437292</td>\n      <td>9,761</td>\n      <td>357250</td>\n    </tr>\n    <tr>\n      <th>2</th>\n      <td>삼성공조</td>\n      <td>00126201</td>\n      <td>2,000</td>\n      <td>006660</td>\n    </tr>\n    <tr>\n      <th>3</th>\n      <td>큐브엔터</td>\n      <td>00985686</td>\n      <td>2,500</td>\n      <td>182360</td>\n    </tr>\n    <tr>\n      <th>4</th>\n      <td>브이티지엠피</td>\n      <td>00150165</td>\n      <td>13,431</td>\n      <td>018290</td>\n    </tr>\n    <tr>\n      <th>5</th>\n      <td>바이오리더스</td>\n      <td>00587925</td>\n      <td>10,000</td>\n      <td>142760</td>\n    </tr>\n    <tr>\n      <th>6</th>\n      <td>한화시스템</td>\n      <td>00339391</td>\n      <td>1,778</td>\n      <td>272210</td>\n    </tr>\n    <tr>\n      <th>7</th>\n      <td>LG유플러스</td>\n      <td>00231363</td>\n      <td>25,000</td>\n      <td>032640</td>\n    </tr>\n  </tbody>\n</table>\n</div>"
     },
     "metadata": {},
     "execution_count": 73
    }
   ],
   "source": [
    "result = pd.DataFrame(columns=['corp_name', 'corp_code', 'mdf_stk_cnt'])\n",
    "for idx, row in list_report_nm.iterrows():\n",
    "    html = dart.document(row['rcept_no'])\n",
    "    soup = BeautifulSoup(html, 'html5lib')\n",
    "    sec3_2 = soup.select('section-3')[2]\n",
    "    rpt_rsn = sec3_2.findAll('tu', {'aunit': 'RPT_RSN'})[-1]\n",
    "    mdf_stk_cnt = sec3_2.findAll('te', {'acode': 'MDF_STK_CNT'})[-1]\n",
    "    if (rpt_rsn.contents[0] == '장내매수(+)'):\n",
    "        tmp = pd.DataFrame(data=[[row['corp_name'], row['corp_code'], row['stock_code'], mdf_stk_cnt.contents[0]]], columns=['corp_name', 'corp_code', 'stock_code', 'mdf_stk_cnt'])\n",
    "        result = result.append(tmp, ignore_index=True)\n",
    "result"
   ]
  },
  {
   "cell_type": "code",
   "execution_count": 74,
   "metadata": {},
   "outputs": [
    {
     "output_type": "execute_result",
     "data": {
      "text/plain": [
       "                         rcept_no reprt_code bsns_year corp_code stock_code  \\\n",
       "fs_nm  account_nm                                                             \n",
       "연결재무제표 유동자산        20201113000671      11014      2020  00155276     003670   \n",
       "       비유동자산       20201113000671      11014      2020  00155276     003670   \n",
       "       자산총계        20201113000671      11014      2020  00155276     003670   \n",
       "       유동부채        20201113000671      11014      2020  00155276     003670   \n",
       "       비유동부채       20201113000671      11014      2020  00155276     003670   \n",
       "\n",
       "                  fs_div sj_div  sj_nm   thstrm_nm      thstrm_dt  \\\n",
       "fs_nm  account_nm                                                   \n",
       "연결재무제표 유동자산          CFS     BS  재무상태표  제 50 기3분기말  2020.09.30 현재   \n",
       "       비유동자산         CFS     BS  재무상태표  제 50 기3분기말  2020.09.30 현재   \n",
       "       자산총계          CFS     BS  재무상태표  제 50 기3분기말  2020.09.30 현재   \n",
       "       유동부채          CFS     BS  재무상태표  제 50 기3분기말  2020.09.30 현재   \n",
       "       비유동부채         CFS     BS  재무상태표  제 50 기3분기말  2020.09.30 현재   \n",
       "\n",
       "                       thstrm_amount frmtrm_nm      frmtrm_dt  \\\n",
       "fs_nm  account_nm                                               \n",
       "연결재무제표 유동자산          906,122,359,371   제 49 기말  2019.12.31 현재   \n",
       "       비유동자산       1,157,219,860,943   제 49 기말  2019.12.31 현재   \n",
       "       자산총계        2,063,342,220,314   제 49 기말  2019.12.31 현재   \n",
       "       유동부채          183,499,608,768   제 49 기말  2019.12.31 현재   \n",
       "       비유동부채         869,915,888,037   제 49 기말  2019.12.31 현재   \n",
       "\n",
       "                       frmtrm_amount ord thstrm_add_amount frmtrm_add_amount  \n",
       "fs_nm  account_nm                                                             \n",
       "연결재무제표 유동자산          649,644,634,524   1               NaN               NaN  \n",
       "       비유동자산       1,080,487,930,571   3               NaN               NaN  \n",
       "       자산총계        1,730,132,565,095   5               NaN               NaN  \n",
       "       유동부채          250,654,203,754   7               NaN               NaN  \n",
       "       비유동부채         473,160,418,105   9               NaN               NaN  "
      ],
      "text/html": "<div>\n<style scoped>\n    .dataframe tbody tr th:only-of-type {\n        vertical-align: middle;\n    }\n\n    .dataframe tbody tr th {\n        vertical-align: top;\n    }\n\n    .dataframe thead th {\n        text-align: right;\n    }\n</style>\n<table border=\"1\" class=\"dataframe\">\n  <thead>\n    <tr style=\"text-align: right;\">\n      <th></th>\n      <th></th>\n      <th>rcept_no</th>\n      <th>reprt_code</th>\n      <th>bsns_year</th>\n      <th>corp_code</th>\n      <th>stock_code</th>\n      <th>fs_div</th>\n      <th>sj_div</th>\n      <th>sj_nm</th>\n      <th>thstrm_nm</th>\n      <th>thstrm_dt</th>\n      <th>thstrm_amount</th>\n      <th>frmtrm_nm</th>\n      <th>frmtrm_dt</th>\n      <th>frmtrm_amount</th>\n      <th>ord</th>\n      <th>thstrm_add_amount</th>\n      <th>frmtrm_add_amount</th>\n    </tr>\n    <tr>\n      <th>fs_nm</th>\n      <th>account_nm</th>\n      <th></th>\n      <th></th>\n      <th></th>\n      <th></th>\n      <th></th>\n      <th></th>\n      <th></th>\n      <th></th>\n      <th></th>\n      <th></th>\n      <th></th>\n      <th></th>\n      <th></th>\n      <th></th>\n      <th></th>\n      <th></th>\n      <th></th>\n    </tr>\n  </thead>\n  <tbody>\n    <tr>\n      <th rowspan=\"5\" valign=\"top\">연결재무제표</th>\n      <th>유동자산</th>\n      <td>20201113000671</td>\n      <td>11014</td>\n      <td>2020</td>\n      <td>00155276</td>\n      <td>003670</td>\n      <td>CFS</td>\n      <td>BS</td>\n      <td>재무상태표</td>\n      <td>제 50 기3분기말</td>\n      <td>2020.09.30 현재</td>\n      <td>906,122,359,371</td>\n      <td>제 49 기말</td>\n      <td>2019.12.31 현재</td>\n      <td>649,644,634,524</td>\n      <td>1</td>\n      <td>NaN</td>\n      <td>NaN</td>\n    </tr>\n    <tr>\n      <th>비유동자산</th>\n      <td>20201113000671</td>\n      <td>11014</td>\n      <td>2020</td>\n      <td>00155276</td>\n      <td>003670</td>\n      <td>CFS</td>\n      <td>BS</td>\n      <td>재무상태표</td>\n      <td>제 50 기3분기말</td>\n      <td>2020.09.30 현재</td>\n      <td>1,157,219,860,943</td>\n      <td>제 49 기말</td>\n      <td>2019.12.31 현재</td>\n      <td>1,080,487,930,571</td>\n      <td>3</td>\n      <td>NaN</td>\n      <td>NaN</td>\n    </tr>\n    <tr>\n      <th>자산총계</th>\n      <td>20201113000671</td>\n      <td>11014</td>\n      <td>2020</td>\n      <td>00155276</td>\n      <td>003670</td>\n      <td>CFS</td>\n      <td>BS</td>\n      <td>재무상태표</td>\n      <td>제 50 기3분기말</td>\n      <td>2020.09.30 현재</td>\n      <td>2,063,342,220,314</td>\n      <td>제 49 기말</td>\n      <td>2019.12.31 현재</td>\n      <td>1,730,132,565,095</td>\n      <td>5</td>\n      <td>NaN</td>\n      <td>NaN</td>\n    </tr>\n    <tr>\n      <th>유동부채</th>\n      <td>20201113000671</td>\n      <td>11014</td>\n      <td>2020</td>\n      <td>00155276</td>\n      <td>003670</td>\n      <td>CFS</td>\n      <td>BS</td>\n      <td>재무상태표</td>\n      <td>제 50 기3분기말</td>\n      <td>2020.09.30 현재</td>\n      <td>183,499,608,768</td>\n      <td>제 49 기말</td>\n      <td>2019.12.31 현재</td>\n      <td>250,654,203,754</td>\n      <td>7</td>\n      <td>NaN</td>\n      <td>NaN</td>\n    </tr>\n    <tr>\n      <th>비유동부채</th>\n      <td>20201113000671</td>\n      <td>11014</td>\n      <td>2020</td>\n      <td>00155276</td>\n      <td>003670</td>\n      <td>CFS</td>\n      <td>BS</td>\n      <td>재무상태표</td>\n      <td>제 50 기3분기말</td>\n      <td>2020.09.30 현재</td>\n      <td>869,915,888,037</td>\n      <td>제 49 기말</td>\n      <td>2019.12.31 현재</td>\n      <td>473,160,418,105</td>\n      <td>9</td>\n      <td>NaN</td>\n      <td>NaN</td>\n    </tr>\n  </tbody>\n</table>\n</div>"
     },
     "metadata": {},
     "execution_count": 74
    }
   ],
   "source": [
    "finstate = dart.finstate('00155276', 2020, reprt_code='11014')\n",
    "finstate.set_index(['fs_nm','account_nm']).head()"
   ]
  },
  {
   "cell_type": "code",
   "execution_count": 75,
   "metadata": {
    "tags": []
   },
   "outputs": [
    {
     "output_type": "execute_result",
     "data": {
      "text/plain": [
       "  corp_code corp_name mdf_stk_cnt stock_code      당기순이익(2018)  \\\n",
       "0  01414422     아이비김영         400     339950                0   \n",
       "1  01437292  미래에셋맵스리츠      9,761      357250                0   \n",
       "2  00126201      삼성공조       2,000     006660    6,332,358,995   \n",
       "3  00985686      큐브엔터       2,500     182360    1,101,720,145   \n",
       "4  00150165    브이티지엠피     13,431      018290   10,707,739,301   \n",
       "5  00587925    바이오리더스      10,000     142760  -16,288,372,674   \n",
       "6  00339391     한화시스템       1,778     272210                0   \n",
       "7  00231363    LG유플러스      25,000     032640  481,609,000,000   \n",
       "\n",
       "       당기순이익(2019)      당기순이익(2020)                부채총계                자산총계  \n",
       "0                0     -759,422,591      30,957,462,846      59,472,719,941  \n",
       "1                0     -775,358,536     199,481,788,469     296,808,413,266  \n",
       "2    5,039,088,673    5,388,558,395      35,616,240,675     258,204,690,029  \n",
       "3      986,622,964     -624,538,048      21,633,078,732      58,849,477,346  \n",
       "4    3,411,551,246   -1,308,655,827      88,499,146,070     158,931,246,112  \n",
       "5  -41,657,220,099  -33,414,027,746      97,405,364,280     190,693,154,865  \n",
       "6   72,896,109,675   93,580,544,300   1,662,387,743,462   2,695,070,123,421  \n",
       "7  438,831,000,000  478,065,000,000  10,698,976,000,000  18,350,190,000,000  "
      ],
      "text/html": "<div>\n<style scoped>\n    .dataframe tbody tr th:only-of-type {\n        vertical-align: middle;\n    }\n\n    .dataframe tbody tr th {\n        vertical-align: top;\n    }\n\n    .dataframe thead th {\n        text-align: right;\n    }\n</style>\n<table border=\"1\" class=\"dataframe\">\n  <thead>\n    <tr style=\"text-align: right;\">\n      <th></th>\n      <th>corp_code</th>\n      <th>corp_name</th>\n      <th>mdf_stk_cnt</th>\n      <th>stock_code</th>\n      <th>당기순이익(2018)</th>\n      <th>당기순이익(2019)</th>\n      <th>당기순이익(2020)</th>\n      <th>부채총계</th>\n      <th>자산총계</th>\n    </tr>\n  </thead>\n  <tbody>\n    <tr>\n      <th>0</th>\n      <td>01414422</td>\n      <td>아이비김영</td>\n      <td>400</td>\n      <td>339950</td>\n      <td>0</td>\n      <td>0</td>\n      <td>-759,422,591</td>\n      <td>30,957,462,846</td>\n      <td>59,472,719,941</td>\n    </tr>\n    <tr>\n      <th>1</th>\n      <td>01437292</td>\n      <td>미래에셋맵스리츠</td>\n      <td>9,761</td>\n      <td>357250</td>\n      <td>0</td>\n      <td>0</td>\n      <td>-775,358,536</td>\n      <td>199,481,788,469</td>\n      <td>296,808,413,266</td>\n    </tr>\n    <tr>\n      <th>2</th>\n      <td>00126201</td>\n      <td>삼성공조</td>\n      <td>2,000</td>\n      <td>006660</td>\n      <td>6,332,358,995</td>\n      <td>5,039,088,673</td>\n      <td>5,388,558,395</td>\n      <td>35,616,240,675</td>\n      <td>258,204,690,029</td>\n    </tr>\n    <tr>\n      <th>3</th>\n      <td>00985686</td>\n      <td>큐브엔터</td>\n      <td>2,500</td>\n      <td>182360</td>\n      <td>1,101,720,145</td>\n      <td>986,622,964</td>\n      <td>-624,538,048</td>\n      <td>21,633,078,732</td>\n      <td>58,849,477,346</td>\n    </tr>\n    <tr>\n      <th>4</th>\n      <td>00150165</td>\n      <td>브이티지엠피</td>\n      <td>13,431</td>\n      <td>018290</td>\n      <td>10,707,739,301</td>\n      <td>3,411,551,246</td>\n      <td>-1,308,655,827</td>\n      <td>88,499,146,070</td>\n      <td>158,931,246,112</td>\n    </tr>\n    <tr>\n      <th>5</th>\n      <td>00587925</td>\n      <td>바이오리더스</td>\n      <td>10,000</td>\n      <td>142760</td>\n      <td>-16,288,372,674</td>\n      <td>-41,657,220,099</td>\n      <td>-33,414,027,746</td>\n      <td>97,405,364,280</td>\n      <td>190,693,154,865</td>\n    </tr>\n    <tr>\n      <th>6</th>\n      <td>00339391</td>\n      <td>한화시스템</td>\n      <td>1,778</td>\n      <td>272210</td>\n      <td>0</td>\n      <td>72,896,109,675</td>\n      <td>93,580,544,300</td>\n      <td>1,662,387,743,462</td>\n      <td>2,695,070,123,421</td>\n    </tr>\n    <tr>\n      <th>7</th>\n      <td>00231363</td>\n      <td>LG유플러스</td>\n      <td>25,000</td>\n      <td>032640</td>\n      <td>481,609,000,000</td>\n      <td>438,831,000,000</td>\n      <td>478,065,000,000</td>\n      <td>10,698,976,000,000</td>\n      <td>18,350,190,000,000</td>\n    </tr>\n  </tbody>\n</table>\n</div>"
     },
     "metadata": {},
     "execution_count": 75
    }
   ],
   "source": [
    "# \"11013\"=1분기보고서,  \"11012\"=반기보고서,  \"11014\"=3분기보고서, \"11011\"=사업보고서\n",
    "result2 = pd.DataFrame()\n",
    "for idx, row in result.iterrows():\n",
    "    for year in [2018, 2019, 2020]:\n",
    "        finstate = dart.finstate(row['corp_code'], year, reprt_code='11011')\n",
    "        col_name = '당기순이익(' + str(year) + ')'\n",
    "        if finstate is None:\n",
    "            row[col_name] = '0'\n",
    "        elif finstate[finstate['fs_nm'] == '연결재무제표'].empty:\n",
    "            row[col_name] = finstate.set_index(['fs_nm','account_nm']).loc[('재무제표', '당기순이익'), 'thstrm_amount']\n",
    "        else:\n",
    "            try:\n",
    "                row[col_name] = finstate.set_index(['fs_nm','account_nm']).loc[('연결재무제표', '당기순이익'), 'thstrm_amount']\n",
    "            except:\n",
    "                row[col_name] = '0'\n",
    "    \n",
    "    finstate = dart.finstate(row['corp_code'], 2020, reprt_code='11011')\n",
    "    if finstate is None:\n",
    "        row['부채총계'] = '0'\n",
    "        row['자산총계'] = '0'\n",
    "    elif finstate[finstate['fs_nm'] == '연결재무제표'].empty:\n",
    "        row['부채총계'] = finstate.set_index(['fs_nm','account_nm']).loc[('재무제표', '부채총계'), 'thstrm_amount']\n",
    "        row['자산총계'] = finstate.set_index(['fs_nm','account_nm']).loc[('재무제표', '자산총계'), 'thstrm_amount']\n",
    "    else:\n",
    "        try:\n",
    "            row['부채총계'] = finstate.set_index(['fs_nm','account_nm']).loc[('연결재무제표', '부채총계'), 'thstrm_amount']\n",
    "            row['자산총계'] = finstate.set_index(['fs_nm','account_nm']).loc[('연결재무제표', '자산총계'), 'thstrm_amount']\n",
    "        except:\n",
    "            row['부채총계'] = '0'\n",
    "            row['자산총계'] = '0'\n",
    "    result2 = result2.append(row)\n",
    "result2"
   ]
  },
  {
   "cell_type": "code",
   "execution_count": 76,
   "metadata": {},
   "outputs": [
    {
     "output_type": "stream",
     "name": "stdout",
     "text": [
      "            종가             시가총액       거래량           거래대금       상장주식수\n티커                                                                  \n005930   84000  501461734200000  13794652  1156326758700  5969782550\n000660  137000   99736324005000   2777203   381902748000   728002365\n035420  391500   64309119142500    757969   298405770500   164263395\n051910  897000   63321331671000    555279   493200725000    70592343\n005935   75100   61798791170000   1159732    87222340600   822886700\n"
     ]
    }
   ],
   "source": [
    "market_cap = stock.get_market_cap_by_ticker(day_buy.replace('-',''))\n",
    "print(market_cap.head())"
   ]
  },
  {
   "cell_type": "code",
   "execution_count": 77,
   "metadata": {},
   "outputs": [
    {
     "output_type": "execute_result",
     "data": {
      "text/plain": [
       "99736324005000"
      ]
     },
     "metadata": {},
     "execution_count": 77
    }
   ],
   "source": [
    "market_cap.loc['000660', '시가총액']"
   ]
  },
  {
   "cell_type": "code",
   "execution_count": 78,
   "metadata": {},
   "outputs": [
    {
     "output_type": "execute_result",
     "data": {
      "text/plain": [
       "  corp_code corp_name mdf_stk_cnt stock_code     가치/시총           기업가치  \\\n",
       "0  01414422     아이비김영         400     339950     8.75%     9127835065   \n",
       "1  01437292  미래에셋맵스리츠      9,761      357250    37.01%    36604574310   \n",
       "2  00126201      삼성공조       2,000     006660   146.00%   121611591267   \n",
       "3  00985686      큐브엔터       2,500     182360    11.78%    16087911374   \n",
       "4  00150165    브이티지엠피     13,431      018290    14.35%    41777714328   \n",
       "5  00587925    바이오리더스      10,000     142760  -113.58%  -162529779876   \n",
       "6  00339391     한화시스템       1,778     272210    37.80%   839606804233   \n",
       "7  00231363    LG유플러스      25,000     032640   102.35%  5853951599999   \n",
       "\n",
       "       당기순이익(2018)      당기순이익(2019)      당기순이익(2020)                부채총계  \\\n",
       "0                0                0     -759,422,591      30,957,462,846   \n",
       "1                0                0     -775,358,536     199,481,788,469   \n",
       "2    6,332,358,995    5,039,088,673    5,388,558,395      35,616,240,675   \n",
       "3    1,101,720,145      986,622,964     -624,538,048      21,633,078,732   \n",
       "4   10,707,739,301    3,411,551,246   -1,308,655,827      88,499,146,070   \n",
       "5  -16,288,372,674  -41,657,220,099  -33,414,027,746      97,405,364,280   \n",
       "6                0   72,896,109,675   93,580,544,300   1,662,387,743,462   \n",
       "7  481,609,000,000  438,831,000,000  478,065,000,000  10,698,976,000,000   \n",
       "\n",
       "           순이익가치            순자산           시가총액                자산총계  \n",
       "0    -3797112955    28515257095   104304738025      59,472,719,941  \n",
       "1    -3876792680    97326624797    98892000000     296,808,413,266  \n",
       "2    54293685876   222588449354    83294718500     258,204,690,029  \n",
       "3     2002253215    37216398614   136522004290      58,849,477,346  \n",
       "4    22674790520    70432100042   291039118920     158,931,246,112  \n",
       "5  -333074826850    93287790585   143091767520     190,693,154,865  \n",
       "6   710889753750  1032682379959  2221142338350   2,695,070,123,421  \n",
       "7  4655776666666  7651214000000  5719608829100  18,350,190,000,000  "
      ],
      "text/html": "<div>\n<style scoped>\n    .dataframe tbody tr th:only-of-type {\n        vertical-align: middle;\n    }\n\n    .dataframe tbody tr th {\n        vertical-align: top;\n    }\n\n    .dataframe thead th {\n        text-align: right;\n    }\n</style>\n<table border=\"1\" class=\"dataframe\">\n  <thead>\n    <tr style=\"text-align: right;\">\n      <th></th>\n      <th>corp_code</th>\n      <th>corp_name</th>\n      <th>mdf_stk_cnt</th>\n      <th>stock_code</th>\n      <th>가치/시총</th>\n      <th>기업가치</th>\n      <th>당기순이익(2018)</th>\n      <th>당기순이익(2019)</th>\n      <th>당기순이익(2020)</th>\n      <th>부채총계</th>\n      <th>순이익가치</th>\n      <th>순자산</th>\n      <th>시가총액</th>\n      <th>자산총계</th>\n    </tr>\n  </thead>\n  <tbody>\n    <tr>\n      <th>0</th>\n      <td>01414422</td>\n      <td>아이비김영</td>\n      <td>400</td>\n      <td>339950</td>\n      <td>8.75%</td>\n      <td>9127835065</td>\n      <td>0</td>\n      <td>0</td>\n      <td>-759,422,591</td>\n      <td>30,957,462,846</td>\n      <td>-3797112955</td>\n      <td>28515257095</td>\n      <td>104304738025</td>\n      <td>59,472,719,941</td>\n    </tr>\n    <tr>\n      <th>1</th>\n      <td>01437292</td>\n      <td>미래에셋맵스리츠</td>\n      <td>9,761</td>\n      <td>357250</td>\n      <td>37.01%</td>\n      <td>36604574310</td>\n      <td>0</td>\n      <td>0</td>\n      <td>-775,358,536</td>\n      <td>199,481,788,469</td>\n      <td>-3876792680</td>\n      <td>97326624797</td>\n      <td>98892000000</td>\n      <td>296,808,413,266</td>\n    </tr>\n    <tr>\n      <th>2</th>\n      <td>00126201</td>\n      <td>삼성공조</td>\n      <td>2,000</td>\n      <td>006660</td>\n      <td>146.00%</td>\n      <td>121611591267</td>\n      <td>6,332,358,995</td>\n      <td>5,039,088,673</td>\n      <td>5,388,558,395</td>\n      <td>35,616,240,675</td>\n      <td>54293685876</td>\n      <td>222588449354</td>\n      <td>83294718500</td>\n      <td>258,204,690,029</td>\n    </tr>\n    <tr>\n      <th>3</th>\n      <td>00985686</td>\n      <td>큐브엔터</td>\n      <td>2,500</td>\n      <td>182360</td>\n      <td>11.78%</td>\n      <td>16087911374</td>\n      <td>1,101,720,145</td>\n      <td>986,622,964</td>\n      <td>-624,538,048</td>\n      <td>21,633,078,732</td>\n      <td>2002253215</td>\n      <td>37216398614</td>\n      <td>136522004290</td>\n      <td>58,849,477,346</td>\n    </tr>\n    <tr>\n      <th>4</th>\n      <td>00150165</td>\n      <td>브이티지엠피</td>\n      <td>13,431</td>\n      <td>018290</td>\n      <td>14.35%</td>\n      <td>41777714328</td>\n      <td>10,707,739,301</td>\n      <td>3,411,551,246</td>\n      <td>-1,308,655,827</td>\n      <td>88,499,146,070</td>\n      <td>22674790520</td>\n      <td>70432100042</td>\n      <td>291039118920</td>\n      <td>158,931,246,112</td>\n    </tr>\n    <tr>\n      <th>5</th>\n      <td>00587925</td>\n      <td>바이오리더스</td>\n      <td>10,000</td>\n      <td>142760</td>\n      <td>-113.58%</td>\n      <td>-162529779876</td>\n      <td>-16,288,372,674</td>\n      <td>-41,657,220,099</td>\n      <td>-33,414,027,746</td>\n      <td>97,405,364,280</td>\n      <td>-333074826850</td>\n      <td>93287790585</td>\n      <td>143091767520</td>\n      <td>190,693,154,865</td>\n    </tr>\n    <tr>\n      <th>6</th>\n      <td>00339391</td>\n      <td>한화시스템</td>\n      <td>1,778</td>\n      <td>272210</td>\n      <td>37.80%</td>\n      <td>839606804233</td>\n      <td>0</td>\n      <td>72,896,109,675</td>\n      <td>93,580,544,300</td>\n      <td>1,662,387,743,462</td>\n      <td>710889753750</td>\n      <td>1032682379959</td>\n      <td>2221142338350</td>\n      <td>2,695,070,123,421</td>\n    </tr>\n    <tr>\n      <th>7</th>\n      <td>00231363</td>\n      <td>LG유플러스</td>\n      <td>25,000</td>\n      <td>032640</td>\n      <td>102.35%</td>\n      <td>5853951599999</td>\n      <td>481,609,000,000</td>\n      <td>438,831,000,000</td>\n      <td>478,065,000,000</td>\n      <td>10,698,976,000,000</td>\n      <td>4655776666666</td>\n      <td>7651214000000</td>\n      <td>5719608829100</td>\n      <td>18,350,190,000,000</td>\n    </tr>\n  </tbody>\n</table>\n</div>"
     },
     "metadata": {},
     "execution_count": 78
    }
   ],
   "source": [
    "result3 = pd.DataFrame()\n",
    "for idx, row in result2.iterrows():\n",
    "    row['순이익가치'] = str(math.floor((int(row['당기순이익(2020)'].replace(',', '')) * 3 + int(row['당기순이익(2019)'].replace(',', '')) * 2 + int(row['당기순이익(2018)'].replace(',', '')) * 1) / 6 * 10))\n",
    "    row['순자산'] = str(int(row['자산총계'].replace(',', '')) - int(row['부채총계'].replace(',', '')))\n",
    "    row['기업가치'] = str(math.floor(int(row['순이익가치']) * 0.6 +  int(row['순자산']) * 0.4))\n",
    "    row['시가총액'] = str(market_cap.loc[row['stock_code'], '시가총액'])\n",
    "    row['가치/시총'] = '{:.2f}%'.format(int(row['기업가치']) / int(row['시가총액']) * 100)\n",
    "    result3 = result3.append(row)\n",
    "result3"
   ]
  }
 ]
}