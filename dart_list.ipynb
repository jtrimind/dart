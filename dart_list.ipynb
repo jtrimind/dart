{
 "metadata": {
  "language_info": {
   "codemirror_mode": {
    "name": "ipython",
    "version": 3
   },
   "file_extension": ".py",
   "mimetype": "text/x-python",
   "name": "python",
   "nbconvert_exporter": "python",
   "pygments_lexer": "ipython3",
   "version": "3.7.6"
  },
  "orig_nbformat": 2,
  "kernelspec": {
   "name": "python376jvsc74a57bd0b3ba2566441a7c06988d0923437866b63cedc61552a5af99d1f4fb67d367b25f",
   "display_name": "Python 3.7.6 64-bit ('base': conda)"
  }
 },
 "nbformat": 4,
 "nbformat_minor": 2,
 "cells": [
  {
   "cell_type": "code",
   "execution_count": 29,
   "metadata": {},
   "outputs": [],
   "source": [
    "import pandas as pd\n",
    "import OpenDartReader\n",
    "import FinanceDataReader as fdr\n",
    "import datetime\n",
    "from bs4 import BeautifulSoup\n",
    "from pykrx import stock\n",
    "import math"
   ]
  },
  {
   "cell_type": "code",
   "execution_count": 30,
   "metadata": {},
   "outputs": [],
   "source": [
    "api_key = '133579488f1e7f9a44707b2a7d2be9999840935a'\n",
    "dart = OpenDartReader(api_key)"
   ]
  },
  {
   "cell_type": "code",
   "execution_count": 31,
   "metadata": {},
   "outputs": [],
   "source": [
    "day_buy = '2021-04-05'"
   ]
  },
  {
   "cell_type": "code",
   "execution_count": 32,
   "metadata": {},
   "outputs": [
    {
     "output_type": "execute_result",
     "data": {
      "text/plain": [
       "  corp_code corp_name stock_code corp_cls            report_nm  \\\n",
       "0  00989619      알테오젠     196170        K  임원ㆍ주요주주특정증권등소유상황보고서   \n",
       "1  00989619      알테오젠     196170        K  임원ㆍ주요주주특정증권등소유상황보고서   \n",
       "2  01199550  현대에너지솔루션     322000        Y    주식등의대량보유상황보고서(약식)   \n",
       "3  01205842    현대건설기계     267270        Y    주식등의대량보유상황보고서(약식)   \n",
       "4  00166227   화승인더스트리     006060        Y    주식등의대량보유상황보고서(약식)   \n",
       "\n",
       "         rcept_no  flr_nm  rcept_dt rm  \n",
       "0  20210405003144     박순재  20210405     \n",
       "1  20210405003129     정혜신  20210405     \n",
       "2  20210405003120  국민연금공단  20210405     \n",
       "3  20210405003112  국민연금공단  20210405     \n",
       "4  20210405003107  국민연금공단  20210405     "
      ],
      "text/html": "<div>\n<style scoped>\n    .dataframe tbody tr th:only-of-type {\n        vertical-align: middle;\n    }\n\n    .dataframe tbody tr th {\n        vertical-align: top;\n    }\n\n    .dataframe thead th {\n        text-align: right;\n    }\n</style>\n<table border=\"1\" class=\"dataframe\">\n  <thead>\n    <tr style=\"text-align: right;\">\n      <th></th>\n      <th>corp_code</th>\n      <th>corp_name</th>\n      <th>stock_code</th>\n      <th>corp_cls</th>\n      <th>report_nm</th>\n      <th>rcept_no</th>\n      <th>flr_nm</th>\n      <th>rcept_dt</th>\n      <th>rm</th>\n    </tr>\n  </thead>\n  <tbody>\n    <tr>\n      <th>0</th>\n      <td>00989619</td>\n      <td>알테오젠</td>\n      <td>196170</td>\n      <td>K</td>\n      <td>임원ㆍ주요주주특정증권등소유상황보고서</td>\n      <td>20210405003144</td>\n      <td>박순재</td>\n      <td>20210405</td>\n      <td></td>\n    </tr>\n    <tr>\n      <th>1</th>\n      <td>00989619</td>\n      <td>알테오젠</td>\n      <td>196170</td>\n      <td>K</td>\n      <td>임원ㆍ주요주주특정증권등소유상황보고서</td>\n      <td>20210405003129</td>\n      <td>정혜신</td>\n      <td>20210405</td>\n      <td></td>\n    </tr>\n    <tr>\n      <th>2</th>\n      <td>01199550</td>\n      <td>현대에너지솔루션</td>\n      <td>322000</td>\n      <td>Y</td>\n      <td>주식등의대량보유상황보고서(약식)</td>\n      <td>20210405003120</td>\n      <td>국민연금공단</td>\n      <td>20210405</td>\n      <td></td>\n    </tr>\n    <tr>\n      <th>3</th>\n      <td>01205842</td>\n      <td>현대건설기계</td>\n      <td>267270</td>\n      <td>Y</td>\n      <td>주식등의대량보유상황보고서(약식)</td>\n      <td>20210405003112</td>\n      <td>국민연금공단</td>\n      <td>20210405</td>\n      <td></td>\n    </tr>\n    <tr>\n      <th>4</th>\n      <td>00166227</td>\n      <td>화승인더스트리</td>\n      <td>006060</td>\n      <td>Y</td>\n      <td>주식등의대량보유상황보고서(약식)</td>\n      <td>20210405003107</td>\n      <td>국민연금공단</td>\n      <td>20210405</td>\n      <td></td>\n    </tr>\n  </tbody>\n</table>\n</div>"
     },
     "metadata": {},
     "execution_count": 32
    }
   ],
   "source": [
    "list_d002 = dart.list(end=day_buy, kind='D', kind_detail='D002')\n",
    "list_d002.head()"
   ]
  },
  {
   "cell_type": "code",
   "execution_count": 33,
   "metadata": {},
   "outputs": [
    {
     "output_type": "execute_result",
     "data": {
      "text/plain": [
       "   corp_code corp_name stock_code corp_cls            report_nm  \\\n",
       "0   00989619      알테오젠     196170        K  임원ㆍ주요주주특정증권등소유상황보고서   \n",
       "1   00989619      알테오젠     196170        K  임원ㆍ주요주주특정증권등소유상황보고서   \n",
       "12  00989619      알테오젠     196170        K  임원ㆍ주요주주특정증권등소유상황보고서   \n",
       "21  00606664    케이엔더블유     105330        K  임원ㆍ주요주주특정증권등소유상황보고서   \n",
       "24  01335851     박셀바이오     323990        K  임원ㆍ주요주주특정증권등소유상황보고서   \n",
       "\n",
       "          rcept_no flr_nm  rcept_dt rm  \n",
       "0   20210405003144    박순재  20210405     \n",
       "1   20210405003129    정혜신  20210405     \n",
       "12  20210405003075    이재상  20210405     \n",
       "21  20210405003021    오범석  20210405     \n",
       "24  20210405003009    정광준  20210405     "
      ],
      "text/html": "<div>\n<style scoped>\n    .dataframe tbody tr th:only-of-type {\n        vertical-align: middle;\n    }\n\n    .dataframe tbody tr th {\n        vertical-align: top;\n    }\n\n    .dataframe thead th {\n        text-align: right;\n    }\n</style>\n<table border=\"1\" class=\"dataframe\">\n  <thead>\n    <tr style=\"text-align: right;\">\n      <th></th>\n      <th>corp_code</th>\n      <th>corp_name</th>\n      <th>stock_code</th>\n      <th>corp_cls</th>\n      <th>report_nm</th>\n      <th>rcept_no</th>\n      <th>flr_nm</th>\n      <th>rcept_dt</th>\n      <th>rm</th>\n    </tr>\n  </thead>\n  <tbody>\n    <tr>\n      <th>0</th>\n      <td>00989619</td>\n      <td>알테오젠</td>\n      <td>196170</td>\n      <td>K</td>\n      <td>임원ㆍ주요주주특정증권등소유상황보고서</td>\n      <td>20210405003144</td>\n      <td>박순재</td>\n      <td>20210405</td>\n      <td></td>\n    </tr>\n    <tr>\n      <th>1</th>\n      <td>00989619</td>\n      <td>알테오젠</td>\n      <td>196170</td>\n      <td>K</td>\n      <td>임원ㆍ주요주주특정증권등소유상황보고서</td>\n      <td>20210405003129</td>\n      <td>정혜신</td>\n      <td>20210405</td>\n      <td></td>\n    </tr>\n    <tr>\n      <th>12</th>\n      <td>00989619</td>\n      <td>알테오젠</td>\n      <td>196170</td>\n      <td>K</td>\n      <td>임원ㆍ주요주주특정증권등소유상황보고서</td>\n      <td>20210405003075</td>\n      <td>이재상</td>\n      <td>20210405</td>\n      <td></td>\n    </tr>\n    <tr>\n      <th>21</th>\n      <td>00606664</td>\n      <td>케이엔더블유</td>\n      <td>105330</td>\n      <td>K</td>\n      <td>임원ㆍ주요주주특정증권등소유상황보고서</td>\n      <td>20210405003021</td>\n      <td>오범석</td>\n      <td>20210405</td>\n      <td></td>\n    </tr>\n    <tr>\n      <th>24</th>\n      <td>01335851</td>\n      <td>박셀바이오</td>\n      <td>323990</td>\n      <td>K</td>\n      <td>임원ㆍ주요주주특정증권등소유상황보고서</td>\n      <td>20210405003009</td>\n      <td>정광준</td>\n      <td>20210405</td>\n      <td></td>\n    </tr>\n  </tbody>\n</table>\n</div>"
     },
     "metadata": {},
     "execution_count": 33
    }
   ],
   "source": [
    "list_report_nm = list_d002[(list_d002['report_nm'] == '임원ㆍ주요주주특정증권등소유상황보고서') & ((list_d002['corp_cls'] == 'Y') | (list_d002['corp_cls'] == 'K' ))]\n",
    "list_report_nm.head()"
   ]
  },
  {
   "cell_type": "code",
   "execution_count": 34,
   "metadata": {},
   "outputs": [
    {
     "output_type": "execute_result",
     "data": {
      "text/plain": [
       "  corp_name corp_code mdf_stk_cnt stock_code\n",
       "0      한국큐빅  00160010       3,320     021650\n",
       "1      유유제약  00144818       1,000     000220\n",
       "2        한화  00160588         700     000880\n",
       "3        베셀  00813389       1,000     177350\n",
       "4     티웨이항공  00671376       1,000     091810\n",
       "5      세아제강  01325979         440     306200\n",
       "6        대교  00108913        600      019680"
      ],
      "text/html": "<div>\n<style scoped>\n    .dataframe tbody tr th:only-of-type {\n        vertical-align: middle;\n    }\n\n    .dataframe tbody tr th {\n        vertical-align: top;\n    }\n\n    .dataframe thead th {\n        text-align: right;\n    }\n</style>\n<table border=\"1\" class=\"dataframe\">\n  <thead>\n    <tr style=\"text-align: right;\">\n      <th></th>\n      <th>corp_name</th>\n      <th>corp_code</th>\n      <th>mdf_stk_cnt</th>\n      <th>stock_code</th>\n    </tr>\n  </thead>\n  <tbody>\n    <tr>\n      <th>0</th>\n      <td>한국큐빅</td>\n      <td>00160010</td>\n      <td>3,320</td>\n      <td>021650</td>\n    </tr>\n    <tr>\n      <th>1</th>\n      <td>유유제약</td>\n      <td>00144818</td>\n      <td>1,000</td>\n      <td>000220</td>\n    </tr>\n    <tr>\n      <th>2</th>\n      <td>한화</td>\n      <td>00160588</td>\n      <td>700</td>\n      <td>000880</td>\n    </tr>\n    <tr>\n      <th>3</th>\n      <td>베셀</td>\n      <td>00813389</td>\n      <td>1,000</td>\n      <td>177350</td>\n    </tr>\n    <tr>\n      <th>4</th>\n      <td>티웨이항공</td>\n      <td>00671376</td>\n      <td>1,000</td>\n      <td>091810</td>\n    </tr>\n    <tr>\n      <th>5</th>\n      <td>세아제강</td>\n      <td>01325979</td>\n      <td>440</td>\n      <td>306200</td>\n    </tr>\n    <tr>\n      <th>6</th>\n      <td>대교</td>\n      <td>00108913</td>\n      <td>600</td>\n      <td>019680</td>\n    </tr>\n  </tbody>\n</table>\n</div>"
     },
     "metadata": {},
     "execution_count": 34
    }
   ],
   "source": [
    "result = pd.DataFrame(columns=['corp_name', 'corp_code', 'mdf_stk_cnt'])\n",
    "for idx, row in list_report_nm.iterrows():\n",
    "    html = dart.document(row['rcept_no'])\n",
    "    soup = BeautifulSoup(html, 'html5lib')\n",
    "    sec3_2 = soup.select('section-3')[2]\n",
    "    rpt_rsn = sec3_2.findAll('tu', {'aunit': 'RPT_RSN'})[-1]\n",
    "    mdf_stk_cnt = sec3_2.findAll('te', {'acode': 'MDF_STK_CNT'})[-1]\n",
    "    if (rpt_rsn.contents[0] == '장내매수(+)'):\n",
    "        tmp = pd.DataFrame(data=[[row['corp_name'], row['corp_code'], row['stock_code'], mdf_stk_cnt.contents[0]]], columns=['corp_name', 'corp_code', 'stock_code', 'mdf_stk_cnt'])\n",
    "        result = result.append(tmp, ignore_index=True)\n",
    "result"
   ]
  },
  {
   "cell_type": "code",
   "execution_count": 35,
   "metadata": {},
   "outputs": [],
   "source": [
    "def getFinstate(corp, year, quarter):\n",
    "    # \"11013\"=1분기보고서,  \"11012\"=반기보고서,  \"11014\"=3분기보고서, \"11011\"=사업보고서\n",
    "    reprt_code = {1: '11013',\n",
    "                  2: '11012',\n",
    "                  3: '11014',\n",
    "                  4: '11011'}\n",
    "    return dart.finstate(corp, year, reprt_code=reprt_code)"
   ]
  },
  {
   "cell_type": "code",
   "execution_count": 36,
   "metadata": {},
   "outputs": [],
   "source": [
    "def getProfitFromFinstate(finstate):\n",
    "    if finstate is None:\n",
    "        return 0\n",
    "    finstate = finstate.set_index('account_nm')\n",
    "    profit = finstate.loc['당기순이익', 'thstrm_amount']\n",
    "    if not isinstance(profit, str):\n",
    "        profit = profit[0]\n",
    "    profit = int(profit.replace(',',''))\n",
    "    return profit"
   ]
  },
  {
   "cell_type": "code",
   "execution_count": 37,
   "metadata": {},
   "outputs": [],
   "source": [
    "def getAssetFromFinstate(finstate):\n",
    "    if finstate is None:\n",
    "        return 0\n",
    "    finstate = finstate.set_index('account_nm')\n",
    "    asset = finstate.loc['자본총계', 'thstrm_amount']\n",
    "    if not isinstance(asset, str):\n",
    "        asset = asset[0]\n",
    "    asset = int(asset.replace(',',''))\n",
    "    return asset"
   ]
  },
  {
   "cell_type": "code",
   "execution_count": 38,
   "metadata": {
    "tags": []
   },
   "outputs": [
    {
     "output_type": "execute_result",
     "data": {
      "text/plain": [
       "  corp_code corp_name mdf_stk_cnt stock_code   당기순이익(2018)   당기순이익(2019)  \\\n",
       "0  00160010      한국큐빅       3,320     021650  8.121472e+08  3.347893e+09   \n",
       "1  00144818      유유제약       1,000     000220  4.312110e+09  5.563343e+09   \n",
       "2  00160588        한화         700     000880  7.993400e+11  2.310540e+11   \n",
       "3  00813389        베셀       1,000     177350  1.281373e+09 -1.104672e+10   \n",
       "4  00671376     티웨이항공       1,000     091810  3.788034e+10 -4.320999e+10   \n",
       "5  01325979      세아제강         440     306200  7.030156e+09  2.485199e+10   \n",
       "6  00108913        대교        600      019680  1.922452e+10  1.715526e+10   \n",
       "\n",
       "    당기순이익(2020)          자본총계  \n",
       "0  1.050806e+10  6.730033e+10  \n",
       "1  2.412605e+09  1.170364e+11  \n",
       "2  7.405010e+11  1.850720e+13  \n",
       "3 -2.266139e+09  1.892078e+10  \n",
       "4 -1.378705e+11  1.169858e+11  \n",
       "5  3.305946e+10  5.952522e+11  \n",
       "6 -1.818160e+10  5.588865e+11  "
      ],
      "text/html": "<div>\n<style scoped>\n    .dataframe tbody tr th:only-of-type {\n        vertical-align: middle;\n    }\n\n    .dataframe tbody tr th {\n        vertical-align: top;\n    }\n\n    .dataframe thead th {\n        text-align: right;\n    }\n</style>\n<table border=\"1\" class=\"dataframe\">\n  <thead>\n    <tr style=\"text-align: right;\">\n      <th></th>\n      <th>corp_code</th>\n      <th>corp_name</th>\n      <th>mdf_stk_cnt</th>\n      <th>stock_code</th>\n      <th>당기순이익(2018)</th>\n      <th>당기순이익(2019)</th>\n      <th>당기순이익(2020)</th>\n      <th>자본총계</th>\n    </tr>\n  </thead>\n  <tbody>\n    <tr>\n      <th>0</th>\n      <td>00160010</td>\n      <td>한국큐빅</td>\n      <td>3,320</td>\n      <td>021650</td>\n      <td>8.121472e+08</td>\n      <td>3.347893e+09</td>\n      <td>1.050806e+10</td>\n      <td>6.730033e+10</td>\n    </tr>\n    <tr>\n      <th>1</th>\n      <td>00144818</td>\n      <td>유유제약</td>\n      <td>1,000</td>\n      <td>000220</td>\n      <td>4.312110e+09</td>\n      <td>5.563343e+09</td>\n      <td>2.412605e+09</td>\n      <td>1.170364e+11</td>\n    </tr>\n    <tr>\n      <th>2</th>\n      <td>00160588</td>\n      <td>한화</td>\n      <td>700</td>\n      <td>000880</td>\n      <td>7.993400e+11</td>\n      <td>2.310540e+11</td>\n      <td>7.405010e+11</td>\n      <td>1.850720e+13</td>\n    </tr>\n    <tr>\n      <th>3</th>\n      <td>00813389</td>\n      <td>베셀</td>\n      <td>1,000</td>\n      <td>177350</td>\n      <td>1.281373e+09</td>\n      <td>-1.104672e+10</td>\n      <td>-2.266139e+09</td>\n      <td>1.892078e+10</td>\n    </tr>\n    <tr>\n      <th>4</th>\n      <td>00671376</td>\n      <td>티웨이항공</td>\n      <td>1,000</td>\n      <td>091810</td>\n      <td>3.788034e+10</td>\n      <td>-4.320999e+10</td>\n      <td>-1.378705e+11</td>\n      <td>1.169858e+11</td>\n    </tr>\n    <tr>\n      <th>5</th>\n      <td>01325979</td>\n      <td>세아제강</td>\n      <td>440</td>\n      <td>306200</td>\n      <td>7.030156e+09</td>\n      <td>2.485199e+10</td>\n      <td>3.305946e+10</td>\n      <td>5.952522e+11</td>\n    </tr>\n    <tr>\n      <th>6</th>\n      <td>00108913</td>\n      <td>대교</td>\n      <td>600</td>\n      <td>019680</td>\n      <td>1.922452e+10</td>\n      <td>1.715526e+10</td>\n      <td>-1.818160e+10</td>\n      <td>5.588865e+11</td>\n    </tr>\n  </tbody>\n</table>\n</div>"
     },
     "metadata": {},
     "execution_count": 38
    }
   ],
   "source": [
    "result2 = pd.DataFrame()\n",
    "for idx, row in result.iterrows():\n",
    "    for year in [2018, 2019, 2020]:\n",
    "        finstate = dart.finstate(row['corp_code'], year, reprt_code='11011')\n",
    "        col_name = '당기순이익(' + str(year) + ')'\n",
    "        row[col_name] = getProfitFromFinstate(finstate)\n",
    "    \n",
    "    finstate = dart.finstate(row['corp_code'], 2020, reprt_code='11011')\n",
    "    row['자본총계'] = getAssetFromFinstate(finstate)\n",
    "    result2 = result2.append(row)\n",
    "result2"
   ]
  },
  {
   "cell_type": "code",
   "execution_count": 39,
   "metadata": {},
   "outputs": [
    {
     "output_type": "stream",
     "name": "stdout",
     "text": [
      "            종가             시가총액       거래량           거래대금       상장주식수\n티커                                                                  \n005930   85400  509819429770000  16255990  1385160353200  5969782550\n000660  143000  104104338195000   2616440   373549552500   728002365\n005935   75500   62127945850000   1486188   111925136300   822886700\n035420  377000   61927299915000    421508   158651864000   164263395\n051910  817000   57673944231000    188784   155235548000    70592343\n"
     ]
    }
   ],
   "source": [
    "market_cap = stock.get_market_cap_by_ticker(day_buy.replace('-',''))\n",
    "print(market_cap.head())\n",
    "# market_cap.loc['000660', '시가총액']"
   ]
  },
  {
   "cell_type": "code",
   "execution_count": 40,
   "metadata": {},
   "outputs": [
    {
     "output_type": "execute_result",
     "data": {
      "text/plain": [
       "  corp_code corp_name mdf_stk_cnt stock_code     가치/시총            기업가치  \\\n",
       "0  00160010      한국큐빅       3,320     021650    75.54%     65952232349   \n",
       "1  00144818      유유제약       1,000     000220   104.96%     69491188102   \n",
       "2  00160588        한화         700     000880   469.98%  10885830199999   \n",
       "3  00813389        베셀       1,000     177350   -29.31%    -20042180769   \n",
       "4  00671376     티웨이항공       1,000     091810  -137.40%   -415356970092   \n",
       "5  01325979      세아제강         440     306200   146.85%    394013401146   \n",
       "6  00108913        대교        600      019680    58.65%    222544844515   \n",
       "\n",
       "    당기순이익(2018)   당기순이익(2019)   당기순이익(2020)          순이익가치           시가총액  \\\n",
       "0  8.121472e+08  3.347893e+09  1.050806e+10    65053503671    87312006420   \n",
       "1  4.312110e+09  5.563343e+09  2.412605e+09    37794352528    66210435280   \n",
       "2  7.993400e+11  2.310540e+11  7.405010e+11  5804918333333  2316224911500   \n",
       "3  1.281373e+09 -1.104672e+10 -2.266139e+09   -46017485359    68385368480   \n",
       "4  3.788034e+10 -4.320999e+10 -1.378705e+11  -770252131562   302304964460   \n",
       "5  7.030156e+09  2.485199e+10  3.305946e+10   259854174896   268313980000   \n",
       "6  1.922452e+10  1.715526e+10 -1.818160e+10    -1682945219   379468768000   \n",
       "\n",
       "           자본총계  \n",
       "0  6.730033e+10  \n",
       "1  1.170364e+11  \n",
       "2  1.850720e+13  \n",
       "3  1.892078e+10  \n",
       "4  1.169858e+11  \n",
       "5  5.952522e+11  \n",
       "6  5.588865e+11  "
      ],
      "text/html": "<div>\n<style scoped>\n    .dataframe tbody tr th:only-of-type {\n        vertical-align: middle;\n    }\n\n    .dataframe tbody tr th {\n        vertical-align: top;\n    }\n\n    .dataframe thead th {\n        text-align: right;\n    }\n</style>\n<table border=\"1\" class=\"dataframe\">\n  <thead>\n    <tr style=\"text-align: right;\">\n      <th></th>\n      <th>corp_code</th>\n      <th>corp_name</th>\n      <th>mdf_stk_cnt</th>\n      <th>stock_code</th>\n      <th>가치/시총</th>\n      <th>기업가치</th>\n      <th>당기순이익(2018)</th>\n      <th>당기순이익(2019)</th>\n      <th>당기순이익(2020)</th>\n      <th>순이익가치</th>\n      <th>시가총액</th>\n      <th>자본총계</th>\n    </tr>\n  </thead>\n  <tbody>\n    <tr>\n      <th>0</th>\n      <td>00160010</td>\n      <td>한국큐빅</td>\n      <td>3,320</td>\n      <td>021650</td>\n      <td>75.54%</td>\n      <td>65952232349</td>\n      <td>8.121472e+08</td>\n      <td>3.347893e+09</td>\n      <td>1.050806e+10</td>\n      <td>65053503671</td>\n      <td>87312006420</td>\n      <td>6.730033e+10</td>\n    </tr>\n    <tr>\n      <th>1</th>\n      <td>00144818</td>\n      <td>유유제약</td>\n      <td>1,000</td>\n      <td>000220</td>\n      <td>104.96%</td>\n      <td>69491188102</td>\n      <td>4.312110e+09</td>\n      <td>5.563343e+09</td>\n      <td>2.412605e+09</td>\n      <td>37794352528</td>\n      <td>66210435280</td>\n      <td>1.170364e+11</td>\n    </tr>\n    <tr>\n      <th>2</th>\n      <td>00160588</td>\n      <td>한화</td>\n      <td>700</td>\n      <td>000880</td>\n      <td>469.98%</td>\n      <td>10885830199999</td>\n      <td>7.993400e+11</td>\n      <td>2.310540e+11</td>\n      <td>7.405010e+11</td>\n      <td>5804918333333</td>\n      <td>2316224911500</td>\n      <td>1.850720e+13</td>\n    </tr>\n    <tr>\n      <th>3</th>\n      <td>00813389</td>\n      <td>베셀</td>\n      <td>1,000</td>\n      <td>177350</td>\n      <td>-29.31%</td>\n      <td>-20042180769</td>\n      <td>1.281373e+09</td>\n      <td>-1.104672e+10</td>\n      <td>-2.266139e+09</td>\n      <td>-46017485359</td>\n      <td>68385368480</td>\n      <td>1.892078e+10</td>\n    </tr>\n    <tr>\n      <th>4</th>\n      <td>00671376</td>\n      <td>티웨이항공</td>\n      <td>1,000</td>\n      <td>091810</td>\n      <td>-137.40%</td>\n      <td>-415356970092</td>\n      <td>3.788034e+10</td>\n      <td>-4.320999e+10</td>\n      <td>-1.378705e+11</td>\n      <td>-770252131562</td>\n      <td>302304964460</td>\n      <td>1.169858e+11</td>\n    </tr>\n    <tr>\n      <th>5</th>\n      <td>01325979</td>\n      <td>세아제강</td>\n      <td>440</td>\n      <td>306200</td>\n      <td>146.85%</td>\n      <td>394013401146</td>\n      <td>7.030156e+09</td>\n      <td>2.485199e+10</td>\n      <td>3.305946e+10</td>\n      <td>259854174896</td>\n      <td>268313980000</td>\n      <td>5.952522e+11</td>\n    </tr>\n    <tr>\n      <th>6</th>\n      <td>00108913</td>\n      <td>대교</td>\n      <td>600</td>\n      <td>019680</td>\n      <td>58.65%</td>\n      <td>222544844515</td>\n      <td>1.922452e+10</td>\n      <td>1.715526e+10</td>\n      <td>-1.818160e+10</td>\n      <td>-1682945219</td>\n      <td>379468768000</td>\n      <td>5.588865e+11</td>\n    </tr>\n  </tbody>\n</table>\n</div>"
     },
     "metadata": {},
     "execution_count": 40
    }
   ],
   "source": [
    "result3 = pd.DataFrame()\n",
    "for idx, row in result2.iterrows():\n",
    "    row['순이익가치'] = str(math.floor(\n",
    "         (row['당기순이익(2020)'] * 3 + row['당기순이익(2019)'] * 2 + row['당기순이익(2018)']) / 6 * 10\n",
    "         ))\n",
    "    row['기업가치'] = str(math.floor(int(row['순이익가치']) * 0.6 +  int(row['자본총계']) * 0.4))\n",
    "    row['시가총액'] = str(market_cap.loc[row['stock_code'], '시가총액'])\n",
    "    row['가치/시총'] = '{:.2f}%'.format(int(row['기업가치']) / int(row['시가총액']) * 100)\n",
    "    result3 = result3.append(row)\n",
    "result3"
   ]
  }
 ]
}