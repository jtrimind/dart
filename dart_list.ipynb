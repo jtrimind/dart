{
 "metadata": {
  "language_info": {
   "codemirror_mode": {
    "name": "ipython",
    "version": 3
   },
   "file_extension": ".py",
   "mimetype": "text/x-python",
   "name": "python",
   "nbconvert_exporter": "python",
   "pygments_lexer": "ipython3",
   "version": "3.7.6-final"
  },
  "orig_nbformat": 2,
  "kernelspec": {
   "name": "python3",
   "display_name": "Python 3",
   "language": "python"
  }
 },
 "nbformat": 4,
 "nbformat_minor": 2,
 "cells": [
  {
   "cell_type": "code",
   "execution_count": 1,
   "metadata": {},
   "outputs": [],
   "source": [
    "import pandas as pd\n",
    "import OpenDartReader\n",
    "import FinanceDataReader as fdr\n",
    "import datetime\n",
    "from bs4 import BeautifulSoup"
   ]
  },
  {
   "cell_type": "code",
   "execution_count": 2,
   "metadata": {},
   "outputs": [],
   "source": [
    "api_key = '133579488f1e7f9a44707b2a7d2be9999840935a'\n",
    "dart = OpenDartReader(api_key)"
   ]
  },
  {
   "cell_type": "code",
   "execution_count": 3,
   "metadata": {},
   "outputs": [],
   "source": [
    "day_buy = '2021-03-02'"
   ]
  },
  {
   "cell_type": "code",
   "execution_count": 4,
   "metadata": {},
   "outputs": [
    {
     "output_type": "execute_result",
     "data": {
      "text/plain": [
       "  corp_code corp_name stock_code corp_cls            report_nm  \\\n",
       "0  00608802    텔콘RF제약     200230        K        의결권대리행사권유참고서류   \n",
       "1  00240857    바이오스마트     038460        K    주식등의대량보유상황보고서(일반)   \n",
       "2  00126308   삼성엔지니어링     028050        Y  임원ㆍ주요주주특정증권등소유상황보고서   \n",
       "3  00110750  리더스 기술투자     019570        K    주식등의대량보유상황보고서(일반)   \n",
       "4  00765462    씨에스베어링     297090        K        의결권대리행사권유참고서류   \n",
       "\n",
       "         rcept_no    flr_nm  rcept_dt rm  \n",
       "0  20210302003640    텔콘RF제약  20210302     \n",
       "1  20210302003619       박혜린  20210302     \n",
       "2  20210302003576       최춘기  20210302     \n",
       "3  20210302003573  리더스에셋홀딩스  20210302     \n",
       "4  20210302003565    씨에스베어링  20210302     "
      ],
      "text/html": "<div>\n<style scoped>\n    .dataframe tbody tr th:only-of-type {\n        vertical-align: middle;\n    }\n\n    .dataframe tbody tr th {\n        vertical-align: top;\n    }\n\n    .dataframe thead th {\n        text-align: right;\n    }\n</style>\n<table border=\"1\" class=\"dataframe\">\n  <thead>\n    <tr style=\"text-align: right;\">\n      <th></th>\n      <th>corp_code</th>\n      <th>corp_name</th>\n      <th>stock_code</th>\n      <th>corp_cls</th>\n      <th>report_nm</th>\n      <th>rcept_no</th>\n      <th>flr_nm</th>\n      <th>rcept_dt</th>\n      <th>rm</th>\n    </tr>\n  </thead>\n  <tbody>\n    <tr>\n      <th>0</th>\n      <td>00608802</td>\n      <td>텔콘RF제약</td>\n      <td>200230</td>\n      <td>K</td>\n      <td>의결권대리행사권유참고서류</td>\n      <td>20210302003640</td>\n      <td>텔콘RF제약</td>\n      <td>20210302</td>\n      <td></td>\n    </tr>\n    <tr>\n      <th>1</th>\n      <td>00240857</td>\n      <td>바이오스마트</td>\n      <td>038460</td>\n      <td>K</td>\n      <td>주식등의대량보유상황보고서(일반)</td>\n      <td>20210302003619</td>\n      <td>박혜린</td>\n      <td>20210302</td>\n      <td></td>\n    </tr>\n    <tr>\n      <th>2</th>\n      <td>00126308</td>\n      <td>삼성엔지니어링</td>\n      <td>028050</td>\n      <td>Y</td>\n      <td>임원ㆍ주요주주특정증권등소유상황보고서</td>\n      <td>20210302003576</td>\n      <td>최춘기</td>\n      <td>20210302</td>\n      <td></td>\n    </tr>\n    <tr>\n      <th>3</th>\n      <td>00110750</td>\n      <td>리더스 기술투자</td>\n      <td>019570</td>\n      <td>K</td>\n      <td>주식등의대량보유상황보고서(일반)</td>\n      <td>20210302003573</td>\n      <td>리더스에셋홀딩스</td>\n      <td>20210302</td>\n      <td></td>\n    </tr>\n    <tr>\n      <th>4</th>\n      <td>00765462</td>\n      <td>씨에스베어링</td>\n      <td>297090</td>\n      <td>K</td>\n      <td>의결권대리행사권유참고서류</td>\n      <td>20210302003565</td>\n      <td>씨에스베어링</td>\n      <td>20210302</td>\n      <td></td>\n    </tr>\n  </tbody>\n</table>\n</div>"
     },
     "metadata": {},
     "execution_count": 4
    }
   ],
   "source": [
    "list_d002 = dart.list(end=day_buy, kind='D', kind_detail='D002')\n",
    "list_d002.head()"
   ]
  },
  {
   "cell_type": "code",
   "execution_count": 5,
   "metadata": {},
   "outputs": [
    {
     "output_type": "execute_result",
     "data": {
      "text/plain": [
       "  corp_code corp_name stock_code corp_cls            report_nm  \\\n",
       "2  00126308   삼성엔지니어링     028050        Y  임원ㆍ주요주주특정증권등소유상황보고서   \n",
       "5  00954242   하이골드12호     172580        Y  임원ㆍ주요주주특정증권등소유상황보고서   \n",
       "6  00126308   삼성엔지니어링     028050        Y  임원ㆍ주요주주특정증권등소유상황보고서   \n",
       "7  01368637    유일에너테크     340930        K  임원ㆍ주요주주특정증권등소유상황보고서   \n",
       "8  01368637    유일에너테크     340930        K  임원ㆍ주요주주특정증권등소유상황보고서   \n",
       "\n",
       "         rcept_no flr_nm  rcept_dt rm  \n",
       "2  20210302003576    최춘기  20210302     \n",
       "5  20210302003554  케이비증권  20210302     \n",
       "6  20210302003549    문덕규  20210302     \n",
       "7  20210302003546    김이곤  20210302     \n",
       "8  20210302003535    이강수  20210302     "
      ],
      "text/html": "<div>\n<style scoped>\n    .dataframe tbody tr th:only-of-type {\n        vertical-align: middle;\n    }\n\n    .dataframe tbody tr th {\n        vertical-align: top;\n    }\n\n    .dataframe thead th {\n        text-align: right;\n    }\n</style>\n<table border=\"1\" class=\"dataframe\">\n  <thead>\n    <tr style=\"text-align: right;\">\n      <th></th>\n      <th>corp_code</th>\n      <th>corp_name</th>\n      <th>stock_code</th>\n      <th>corp_cls</th>\n      <th>report_nm</th>\n      <th>rcept_no</th>\n      <th>flr_nm</th>\n      <th>rcept_dt</th>\n      <th>rm</th>\n    </tr>\n  </thead>\n  <tbody>\n    <tr>\n      <th>2</th>\n      <td>00126308</td>\n      <td>삼성엔지니어링</td>\n      <td>028050</td>\n      <td>Y</td>\n      <td>임원ㆍ주요주주특정증권등소유상황보고서</td>\n      <td>20210302003576</td>\n      <td>최춘기</td>\n      <td>20210302</td>\n      <td></td>\n    </tr>\n    <tr>\n      <th>5</th>\n      <td>00954242</td>\n      <td>하이골드12호</td>\n      <td>172580</td>\n      <td>Y</td>\n      <td>임원ㆍ주요주주특정증권등소유상황보고서</td>\n      <td>20210302003554</td>\n      <td>케이비증권</td>\n      <td>20210302</td>\n      <td></td>\n    </tr>\n    <tr>\n      <th>6</th>\n      <td>00126308</td>\n      <td>삼성엔지니어링</td>\n      <td>028050</td>\n      <td>Y</td>\n      <td>임원ㆍ주요주주특정증권등소유상황보고서</td>\n      <td>20210302003549</td>\n      <td>문덕규</td>\n      <td>20210302</td>\n      <td></td>\n    </tr>\n    <tr>\n      <th>7</th>\n      <td>01368637</td>\n      <td>유일에너테크</td>\n      <td>340930</td>\n      <td>K</td>\n      <td>임원ㆍ주요주주특정증권등소유상황보고서</td>\n      <td>20210302003546</td>\n      <td>김이곤</td>\n      <td>20210302</td>\n      <td></td>\n    </tr>\n    <tr>\n      <th>8</th>\n      <td>01368637</td>\n      <td>유일에너테크</td>\n      <td>340930</td>\n      <td>K</td>\n      <td>임원ㆍ주요주주특정증권등소유상황보고서</td>\n      <td>20210302003535</td>\n      <td>이강수</td>\n      <td>20210302</td>\n      <td></td>\n    </tr>\n  </tbody>\n</table>\n</div>"
     },
     "metadata": {},
     "execution_count": 5
    }
   ],
   "source": [
    "list_report_nm = list_d002[(list_d002['report_nm'] == '임원ㆍ주요주주특정증권등소유상황보고서') & ((list_d002['corp_cls'] == 'Y') | (list_d002['corp_cls'] == 'K' ))]\n",
    "list_report_nm.head()"
   ]
  },
  {
   "cell_type": "code",
   "execution_count": 6,
   "metadata": {},
   "outputs": [
    {
     "output_type": "execute_result",
     "data": {
      "text/plain": [
       "  corp_name corp_code mdf_stk_cnt\n",
       "0   하이골드12호  00954242      4,931 \n",
       "1      대림통상  00109824      50,000\n",
       "2      유티아이  00961774       5,500\n",
       "3      KTis  00372873       1,680\n",
       "4  삼성화재해상보험  00139214         114\n",
       "5    포스코케미칼  00155276         144\n",
       "6      태영건설  00153861      20,805\n",
       "7     웅진씽크빅  00628189       3,906\n",
       "8       코아스  00210856      64,258"
      ],
      "text/html": "<div>\n<style scoped>\n    .dataframe tbody tr th:only-of-type {\n        vertical-align: middle;\n    }\n\n    .dataframe tbody tr th {\n        vertical-align: top;\n    }\n\n    .dataframe thead th {\n        text-align: right;\n    }\n</style>\n<table border=\"1\" class=\"dataframe\">\n  <thead>\n    <tr style=\"text-align: right;\">\n      <th></th>\n      <th>corp_name</th>\n      <th>corp_code</th>\n      <th>mdf_stk_cnt</th>\n    </tr>\n  </thead>\n  <tbody>\n    <tr>\n      <th>0</th>\n      <td>하이골드12호</td>\n      <td>00954242</td>\n      <td>4,931</td>\n    </tr>\n    <tr>\n      <th>1</th>\n      <td>대림통상</td>\n      <td>00109824</td>\n      <td>50,000</td>\n    </tr>\n    <tr>\n      <th>2</th>\n      <td>유티아이</td>\n      <td>00961774</td>\n      <td>5,500</td>\n    </tr>\n    <tr>\n      <th>3</th>\n      <td>KTis</td>\n      <td>00372873</td>\n      <td>1,680</td>\n    </tr>\n    <tr>\n      <th>4</th>\n      <td>삼성화재해상보험</td>\n      <td>00139214</td>\n      <td>114</td>\n    </tr>\n    <tr>\n      <th>5</th>\n      <td>포스코케미칼</td>\n      <td>00155276</td>\n      <td>144</td>\n    </tr>\n    <tr>\n      <th>6</th>\n      <td>태영건설</td>\n      <td>00153861</td>\n      <td>20,805</td>\n    </tr>\n    <tr>\n      <th>7</th>\n      <td>웅진씽크빅</td>\n      <td>00628189</td>\n      <td>3,906</td>\n    </tr>\n    <tr>\n      <th>8</th>\n      <td>코아스</td>\n      <td>00210856</td>\n      <td>64,258</td>\n    </tr>\n  </tbody>\n</table>\n</div>"
     },
     "metadata": {},
     "execution_count": 6
    }
   ],
   "source": [
    "result = pd.DataFrame(columns=['corp_name', 'corp_code', 'mdf_stk_cnt'])\n",
    "for idx, row in list_report_nm.iterrows():\n",
    "    html = dart.document(row['rcept_no'])\n",
    "    soup = BeautifulSoup(html, 'html5lib')\n",
    "    sec3_2 = soup.select('section-3')[2]\n",
    "    rpt_rsn = sec3_2.findAll('tu', {'aunit': 'RPT_RSN'})[-1]\n",
    "    mdf_stk_cnt = sec3_2.findAll('te', {'acode': 'MDF_STK_CNT'})[-1]\n",
    "    if (rpt_rsn.contents[0] == '장내매수(+)'):\n",
    "        tmp = pd.DataFrame(data=[[row['corp_name'], row['corp_code'], mdf_stk_cnt.contents[0]]], columns=['corp_name', 'corp_code', 'mdf_stk_cnt'])\n",
    "        result = result.append(tmp, ignore_index=True)\n",
    "result"
   ]
  },
  {
   "cell_type": "code",
   "execution_count": 10,
   "metadata": {},
   "outputs": [
    {
     "output_type": "execute_result",
     "data": {
      "text/plain": [
       "                         rcept_no reprt_code bsns_year corp_code stock_code  \\\n",
       "fs_nm  account_nm                                                             \n",
       "연결재무제표 유동자산        20201113000671      11014      2020  00155276     003670   \n",
       "       비유동자산       20201113000671      11014      2020  00155276     003670   \n",
       "       자산총계        20201113000671      11014      2020  00155276     003670   \n",
       "       유동부채        20201113000671      11014      2020  00155276     003670   \n",
       "       비유동부채       20201113000671      11014      2020  00155276     003670   \n",
       "\n",
       "                  fs_div sj_div  sj_nm   thstrm_nm      thstrm_dt  \\\n",
       "fs_nm  account_nm                                                   \n",
       "연결재무제표 유동자산          CFS     BS  재무상태표  제 50 기3분기말  2020.09.30 현재   \n",
       "       비유동자산         CFS     BS  재무상태표  제 50 기3분기말  2020.09.30 현재   \n",
       "       자산총계          CFS     BS  재무상태표  제 50 기3분기말  2020.09.30 현재   \n",
       "       유동부채          CFS     BS  재무상태표  제 50 기3분기말  2020.09.30 현재   \n",
       "       비유동부채         CFS     BS  재무상태표  제 50 기3분기말  2020.09.30 현재   \n",
       "\n",
       "                       thstrm_amount frmtrm_nm      frmtrm_dt  \\\n",
       "fs_nm  account_nm                                               \n",
       "연결재무제표 유동자산          906,122,359,371   제 49 기말  2019.12.31 현재   \n",
       "       비유동자산       1,157,219,860,943   제 49 기말  2019.12.31 현재   \n",
       "       자산총계        2,063,342,220,314   제 49 기말  2019.12.31 현재   \n",
       "       유동부채          183,499,608,768   제 49 기말  2019.12.31 현재   \n",
       "       비유동부채         869,915,888,037   제 49 기말  2019.12.31 현재   \n",
       "\n",
       "                       frmtrm_amount ord thstrm_add_amount frmtrm_add_amount  \n",
       "fs_nm  account_nm                                                             \n",
       "연결재무제표 유동자산          649,644,634,524   1               NaN               NaN  \n",
       "       비유동자산       1,080,487,930,571   3               NaN               NaN  \n",
       "       자산총계        1,730,132,565,095   5               NaN               NaN  \n",
       "       유동부채          250,654,203,754   7               NaN               NaN  \n",
       "       비유동부채         473,160,418,105   9               NaN               NaN  "
      ],
      "text/html": "<div>\n<style scoped>\n    .dataframe tbody tr th:only-of-type {\n        vertical-align: middle;\n    }\n\n    .dataframe tbody tr th {\n        vertical-align: top;\n    }\n\n    .dataframe thead th {\n        text-align: right;\n    }\n</style>\n<table border=\"1\" class=\"dataframe\">\n  <thead>\n    <tr style=\"text-align: right;\">\n      <th></th>\n      <th></th>\n      <th>rcept_no</th>\n      <th>reprt_code</th>\n      <th>bsns_year</th>\n      <th>corp_code</th>\n      <th>stock_code</th>\n      <th>fs_div</th>\n      <th>sj_div</th>\n      <th>sj_nm</th>\n      <th>thstrm_nm</th>\n      <th>thstrm_dt</th>\n      <th>thstrm_amount</th>\n      <th>frmtrm_nm</th>\n      <th>frmtrm_dt</th>\n      <th>frmtrm_amount</th>\n      <th>ord</th>\n      <th>thstrm_add_amount</th>\n      <th>frmtrm_add_amount</th>\n    </tr>\n    <tr>\n      <th>fs_nm</th>\n      <th>account_nm</th>\n      <th></th>\n      <th></th>\n      <th></th>\n      <th></th>\n      <th></th>\n      <th></th>\n      <th></th>\n      <th></th>\n      <th></th>\n      <th></th>\n      <th></th>\n      <th></th>\n      <th></th>\n      <th></th>\n      <th></th>\n      <th></th>\n      <th></th>\n    </tr>\n  </thead>\n  <tbody>\n    <tr>\n      <th rowspan=\"5\" valign=\"top\">연결재무제표</th>\n      <th>유동자산</th>\n      <td>20201113000671</td>\n      <td>11014</td>\n      <td>2020</td>\n      <td>00155276</td>\n      <td>003670</td>\n      <td>CFS</td>\n      <td>BS</td>\n      <td>재무상태표</td>\n      <td>제 50 기3분기말</td>\n      <td>2020.09.30 현재</td>\n      <td>906,122,359,371</td>\n      <td>제 49 기말</td>\n      <td>2019.12.31 현재</td>\n      <td>649,644,634,524</td>\n      <td>1</td>\n      <td>NaN</td>\n      <td>NaN</td>\n    </tr>\n    <tr>\n      <th>비유동자산</th>\n      <td>20201113000671</td>\n      <td>11014</td>\n      <td>2020</td>\n      <td>00155276</td>\n      <td>003670</td>\n      <td>CFS</td>\n      <td>BS</td>\n      <td>재무상태표</td>\n      <td>제 50 기3분기말</td>\n      <td>2020.09.30 현재</td>\n      <td>1,157,219,860,943</td>\n      <td>제 49 기말</td>\n      <td>2019.12.31 현재</td>\n      <td>1,080,487,930,571</td>\n      <td>3</td>\n      <td>NaN</td>\n      <td>NaN</td>\n    </tr>\n    <tr>\n      <th>자산총계</th>\n      <td>20201113000671</td>\n      <td>11014</td>\n      <td>2020</td>\n      <td>00155276</td>\n      <td>003670</td>\n      <td>CFS</td>\n      <td>BS</td>\n      <td>재무상태표</td>\n      <td>제 50 기3분기말</td>\n      <td>2020.09.30 현재</td>\n      <td>2,063,342,220,314</td>\n      <td>제 49 기말</td>\n      <td>2019.12.31 현재</td>\n      <td>1,730,132,565,095</td>\n      <td>5</td>\n      <td>NaN</td>\n      <td>NaN</td>\n    </tr>\n    <tr>\n      <th>유동부채</th>\n      <td>20201113000671</td>\n      <td>11014</td>\n      <td>2020</td>\n      <td>00155276</td>\n      <td>003670</td>\n      <td>CFS</td>\n      <td>BS</td>\n      <td>재무상태표</td>\n      <td>제 50 기3분기말</td>\n      <td>2020.09.30 현재</td>\n      <td>183,499,608,768</td>\n      <td>제 49 기말</td>\n      <td>2019.12.31 현재</td>\n      <td>250,654,203,754</td>\n      <td>7</td>\n      <td>NaN</td>\n      <td>NaN</td>\n    </tr>\n    <tr>\n      <th>비유동부채</th>\n      <td>20201113000671</td>\n      <td>11014</td>\n      <td>2020</td>\n      <td>00155276</td>\n      <td>003670</td>\n      <td>CFS</td>\n      <td>BS</td>\n      <td>재무상태표</td>\n      <td>제 50 기3분기말</td>\n      <td>2020.09.30 현재</td>\n      <td>869,915,888,037</td>\n      <td>제 49 기말</td>\n      <td>2019.12.31 현재</td>\n      <td>473,160,418,105</td>\n      <td>9</td>\n      <td>NaN</td>\n      <td>NaN</td>\n    </tr>\n  </tbody>\n</table>\n</div>"
     },
     "metadata": {},
     "execution_count": 10
    }
   ],
   "source": [
    "finstate = dart.finstate('00155276', 2020, reprt_code='11014')\n",
    "finstate.set_index(['fs_nm','account_nm']).head()"
   ]
  },
  {
   "cell_type": "code",
   "execution_count": 8,
   "metadata": {
    "tags": []
   },
   "outputs": [
    {
     "output_type": "execute_result",
     "data": {
      "text/plain": [
       "  corp_code corp_name mdf_stk_cnt            당기순이익            영업이익\n",
       "0  00954242   하이골드12호      4,931    -1,365,772,616  -1,365,815,270\n",
       "1  00109824      대림통상      50,000   -3,187,661,424  -1,910,262,867\n",
       "2  00961774      유티아이       5,500      341,001,143     860,994,656\n",
       "3  00372873      KTis       1,680    2,946,591,968   3,270,788,060\n",
       "4  00139214  삼성화재해상보험         114            데이터없음           데이터없음\n",
       "5  00155276    포스코케미칼         144    6,852,279,605  19,380,619,218\n",
       "6  00153861      태영건설      20,805  518,796,662,561  89,663,346,621\n",
       "7  00628189     웅진씽크빅       3,906    9,396,739,209   8,885,390,919\n",
       "8  00210856       코아스      64,258   -1,828,299,947  -2,083,378,623"
      ],
      "text/html": "<div>\n<style scoped>\n    .dataframe tbody tr th:only-of-type {\n        vertical-align: middle;\n    }\n\n    .dataframe tbody tr th {\n        vertical-align: top;\n    }\n\n    .dataframe thead th {\n        text-align: right;\n    }\n</style>\n<table border=\"1\" class=\"dataframe\">\n  <thead>\n    <tr style=\"text-align: right;\">\n      <th></th>\n      <th>corp_code</th>\n      <th>corp_name</th>\n      <th>mdf_stk_cnt</th>\n      <th>당기순이익</th>\n      <th>영업이익</th>\n    </tr>\n  </thead>\n  <tbody>\n    <tr>\n      <th>0</th>\n      <td>00954242</td>\n      <td>하이골드12호</td>\n      <td>4,931</td>\n      <td>-1,365,772,616</td>\n      <td>-1,365,815,270</td>\n    </tr>\n    <tr>\n      <th>1</th>\n      <td>00109824</td>\n      <td>대림통상</td>\n      <td>50,000</td>\n      <td>-3,187,661,424</td>\n      <td>-1,910,262,867</td>\n    </tr>\n    <tr>\n      <th>2</th>\n      <td>00961774</td>\n      <td>유티아이</td>\n      <td>5,500</td>\n      <td>341,001,143</td>\n      <td>860,994,656</td>\n    </tr>\n    <tr>\n      <th>3</th>\n      <td>00372873</td>\n      <td>KTis</td>\n      <td>1,680</td>\n      <td>2,946,591,968</td>\n      <td>3,270,788,060</td>\n    </tr>\n    <tr>\n      <th>4</th>\n      <td>00139214</td>\n      <td>삼성화재해상보험</td>\n      <td>114</td>\n      <td>데이터없음</td>\n      <td>데이터없음</td>\n    </tr>\n    <tr>\n      <th>5</th>\n      <td>00155276</td>\n      <td>포스코케미칼</td>\n      <td>144</td>\n      <td>6,852,279,605</td>\n      <td>19,380,619,218</td>\n    </tr>\n    <tr>\n      <th>6</th>\n      <td>00153861</td>\n      <td>태영건설</td>\n      <td>20,805</td>\n      <td>518,796,662,561</td>\n      <td>89,663,346,621</td>\n    </tr>\n    <tr>\n      <th>7</th>\n      <td>00628189</td>\n      <td>웅진씽크빅</td>\n      <td>3,906</td>\n      <td>9,396,739,209</td>\n      <td>8,885,390,919</td>\n    </tr>\n    <tr>\n      <th>8</th>\n      <td>00210856</td>\n      <td>코아스</td>\n      <td>64,258</td>\n      <td>-1,828,299,947</td>\n      <td>-2,083,378,623</td>\n    </tr>\n  </tbody>\n</table>\n</div>"
     },
     "metadata": {},
     "execution_count": 8
    }
   ],
   "source": [
    "# \"11013\"=1분기보고서,  \"11012\"=반기보고서,  \"11014\"=3분기보고서, \"11011\"=사업보고서\n",
    "result2 = pd.DataFrame()\n",
    "for idx, row in result.iterrows():\n",
    "    finstate = dart.finstate(row['corp_code'], 2020, reprt_code='11014')\n",
    "    if finstate is None:\n",
    "        row['영업이익'] = \"데이터없음\"\n",
    "        row['당기순이익'] = \"데이터없음\"\n",
    "    elif finstate[finstate['fs_nm'] == '연결재무제표'].empty:\n",
    "        row['영업이익'] = finstate.set_index(['fs_nm','account_nm']).loc[('재무제표', '영업이익'), 'thstrm_amount']\n",
    "        row['당기순이익'] = finstate.set_index(['fs_nm','account_nm']).loc[('재무제표', '당기순이익'), 'thstrm_amount']\n",
    "    else:\n",
    "        row['영업이익'] = finstate.set_index(['fs_nm','account_nm']).loc[('연결재무제표', '영업이익'), 'thstrm_amount']\n",
    "        row['당기순이익'] = finstate.set_index(['fs_nm','account_nm']).loc[('연결재무제표', '당기순이익'), 'thstrm_amount']\n",
    "    result2 = result2.append(row)\n",
    "result2"
   ]
  }
 ]
}