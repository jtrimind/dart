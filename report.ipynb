{
 "metadata": {
  "language_info": {
   "codemirror_mode": {
    "name": "ipython",
    "version": 3
   },
   "file_extension": ".py",
   "mimetype": "text/x-python",
   "name": "python",
   "nbconvert_exporter": "python",
   "pygments_lexer": "ipython3",
   "version": "3.7.6"
  },
  "orig_nbformat": 2,
  "kernelspec": {
   "name": "python376jvsc74a57bd0b3ba2566441a7c06988d0923437866b63cedc61552a5af99d1f4fb67d367b25f",
   "display_name": "Python 3.7.6 64-bit ('base': conda)"
  }
 },
 "nbformat": 4,
 "nbformat_minor": 2,
 "cells": [
  {
   "cell_type": "code",
   "execution_count": 1,
   "metadata": {},
   "outputs": [],
   "source": [
    "import pandas as pd\n",
    "import OpenDartReader\n",
    "from bs4 import BeautifulSoup\n",
    "import re"
   ]
  },
  {
   "cell_type": "code",
   "execution_count": 2,
   "metadata": {},
   "outputs": [],
   "source": [
    "api_key = '133579488f1e7f9a44707b2a7d2be9999840935a'\n",
    "dart = OpenDartReader(api_key)"
   ]
  },
  {
   "cell_type": "code",
   "execution_count": 3,
   "metadata": {},
   "outputs": [],
   "source": [
    "def getReportNo(corp, year, quarter):\n",
    "    bgn = {1: '03-01',\n",
    "           2: '06-01',\n",
    "           3: '09-01',\n",
    "           4: '12-01'}[quarter]\n",
    "    end = {1: '07-01',\n",
    "           2: '10-01',\n",
    "           3: '01-01',\n",
    "           4: '04-01'}[quarter]\n",
    "    bgn_day = f'{str(year)}-{bgn}'\n",
    "    end_year = year\n",
    "    if quarter >= 3:\n",
    "        end_year += 1\n",
    "    end_day = f'{str(end_year)}-{end}'\n",
    "\n",
    "    list_a = dart.list(corp=corp, start=bgn_day, end=end_day, kind='A')\n",
    "    name = {1: '분기보고서',\n",
    "            2: '반기보고서',\n",
    "            3: '분기보고서',\n",
    "            4: '사업보고서'}[quarter]\n",
    "    list_a = list_a[list_a['report_nm'].str.contains(name)]\n",
    "    return list_a['rcept_no'][0]"
   ]
  },
  {
   "cell_type": "code",
   "execution_count": 12,
   "metadata": {},
   "outputs": [],
   "source": [
    "def getReport(report_no):\n",
    "    html = dart.document(report_no)\n",
    "    soup = BeautifulSoup(html, 'html5lib')\n",
    "    return soup"
   ]
  },
  {
   "cell_type": "code",
   "execution_count": 5,
   "metadata": {},
   "outputs": [],
   "source": [
    "def getAssetFromReport(report):\n",
    "    d0310 = report.find('title', attrs={'aassocnote': \"D-0-3-1-0\"}).parent\n",
    "    d0310_1 = d0310.find_all('table')[1]\n",
    "    asset_row = d0310_1.find('td', text=re.compile('자 *본 *총 *계')).parent\n",
    "    asset = asset_row.find_all('td')[1].string\n",
    "    asset = int(asset.replace(',',''))\n",
    "    return asset"
   ]
  },
  {
   "cell_type": "code",
   "execution_count": 6,
   "metadata": {},
   "outputs": [],
   "source": [
    "def getProfitFromReport(report):\n",
    "    d0310 = report.find('title', attrs={'aassocnote': \"D-0-3-1-0\"}).parent\n",
    "    d0310_1 = d0310.find_all('table')[3]\n",
    "    profit_row = d0310_1.find('td', text=re.compile('당기순이익')).parent\n",
    "    profit = profit_row.find_all('td')[1].string\n",
    "    profit = int(profit.replace(',',''))\n",
    "    return profit"
   ]
  },
  {
   "cell_type": "code",
   "execution_count": 15,
   "metadata": {},
   "outputs": [],
   "source": [
    "def getQuarterData(corp, year, quarter):\n",
    "    report_no = getReportNo(corp, year, quarter)\n",
    "    report = getReport(report_no)\n",
    "    profit = getProfitFromReport(report)\n",
    "    asset = getAssetFromReport(report)\n",
    "\n",
    "    if quarter == 1:\n",
    "        return [asset, profit]\n",
    "    \n",
    "    prev_q = quarter - 1\n",
    "    prev_report_no = getReportNo(corp, year, prev_q)\n",
    "    prev_report = getReport(prev_report_no)\n",
    "    prev_profit = getProfitFromReport(prev_report)\n",
    "\n",
    "    return [asset, profit - prev_profit]"
   ]
  },
  {
   "cell_type": "code",
   "execution_count": 16,
   "metadata": {},
   "outputs": [
    {
     "output_type": "execute_result",
     "data": {
      "text/plain": [
       "[15252398, 148880]"
      ]
     },
     "metadata": {},
     "execution_count": 16
    }
   ],
   "source": [
    "getQuarterData('00980122', 2020, 3)"
   ]
  }
 ]
}